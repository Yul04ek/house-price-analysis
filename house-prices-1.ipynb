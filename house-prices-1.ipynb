{
 "cells": [
  {
   "cell_type": "markdown",
   "id": "0b8a7ca5",
   "metadata": {
    "papermill": {
     "duration": 0.009163,
     "end_time": "2025-06-20T13:05:15.262633",
     "exception": false,
     "start_time": "2025-06-20T13:05:15.253470",
     "status": "completed"
    },
    "tags": []
   },
   "source": [
    "# Import the library"
   ]
  },
  {
   "cell_type": "code",
   "execution_count": 1,
   "id": "d3948768",
   "metadata": {
    "execution": {
     "iopub.execute_input": "2025-06-20T13:05:15.280639Z",
     "iopub.status.busy": "2025-06-20T13:05:15.280307Z",
     "iopub.status.idle": "2025-06-20T13:05:19.543168Z",
     "shell.execute_reply": "2025-06-20T13:05:19.542355Z"
    },
    "papermill": {
     "duration": 4.274089,
     "end_time": "2025-06-20T13:05:19.545227",
     "exception": false,
     "start_time": "2025-06-20T13:05:15.271138",
     "status": "completed"
    },
    "tags": []
   },
   "outputs": [],
   "source": [
    "import numpy as np \n",
    "import pandas as pd \n",
    "import os\n",
    "import seaborn as sns\n",
    "import matplotlib.pyplot as plt"
   ]
  },
  {
   "cell_type": "markdown",
   "id": "6dbd9101",
   "metadata": {
    "papermill": {
     "duration": 0.007782,
     "end_time": "2025-06-20T13:05:19.561235",
     "exception": false,
     "start_time": "2025-06-20T13:05:19.553453",
     "status": "completed"
    },
    "tags": []
   },
   "source": [
    "# load data"
   ]
  },
  {
   "cell_type": "code",
   "execution_count": 2,
   "id": "dfc4b105",
   "metadata": {
    "execution": {
     "iopub.execute_input": "2025-06-20T13:05:19.578773Z",
     "iopub.status.busy": "2025-06-20T13:05:19.578287Z",
     "iopub.status.idle": "2025-06-20T13:05:19.659467Z",
     "shell.execute_reply": "2025-06-20T13:05:19.658399Z"
    },
    "papermill": {
     "duration": 0.091915,
     "end_time": "2025-06-20T13:05:19.661129",
     "exception": false,
     "start_time": "2025-06-20T13:05:19.569214",
     "status": "completed"
    },
    "tags": []
   },
   "outputs": [
    {
     "name": "stdout",
     "output_type": "stream",
     "text": [
      "['sample_submission.csv', 'data_description.txt', 'train (1).csv', 'test (1).csv']\n",
      "Train:(1460, 81)   Test:(1459, 80)   submission:(1459, 2)\n"
     ]
    }
   ],
   "source": [
    "print(os.listdir('/kaggle/input/house-prices-advanced-regression-techniques/'))\n",
    "\n",
    "df_train = pd.read_csv('/kaggle/input/house-prices-advanced-regression-techniques/train (1).csv')\n",
    "df_test = pd.read_csv('/kaggle/input/house-prices-advanced-regression-techniques/test (1).csv')\n",
    "df_submission = pd.read_csv('/kaggle/input/house-prices-advanced-regression-techniques/sample_submission.csv')\n",
    "print(f'Train:{df_train.shape}   Test:{df_test.shape}   submission:{df_submission.shape}' )"
   ]
  },
  {
   "cell_type": "markdown",
   "id": "60050679",
   "metadata": {
    "papermill": {
     "duration": 0.007623,
     "end_time": "2025-06-20T13:05:19.677562",
     "exception": false,
     "start_time": "2025-06-20T13:05:19.669939",
     "status": "completed"
    },
    "tags": []
   },
   "source": [
    "missing_values = train_df.isnull().sum()\n",
    "missing_values[missing_values > 0].sort_values(ascending=False)printing out the first 5 entries"
   ]
  },
  {
   "cell_type": "code",
   "execution_count": 3,
   "id": "d2f86a6f",
   "metadata": {
    "execution": {
     "iopub.execute_input": "2025-06-20T13:05:19.695556Z",
     "iopub.status.busy": "2025-06-20T13:05:19.694891Z",
     "iopub.status.idle": "2025-06-20T13:05:19.736222Z",
     "shell.execute_reply": "2025-06-20T13:05:19.735299Z"
    },
    "papermill": {
     "duration": 0.052433,
     "end_time": "2025-06-20T13:05:19.737768",
     "exception": false,
     "start_time": "2025-06-20T13:05:19.685335",
     "status": "completed"
    },
    "tags": []
   },
   "outputs": [
    {
     "data": {
      "text/html": [
       "<div>\n",
       "<style scoped>\n",
       "    .dataframe tbody tr th:only-of-type {\n",
       "        vertical-align: middle;\n",
       "    }\n",
       "\n",
       "    .dataframe tbody tr th {\n",
       "        vertical-align: top;\n",
       "    }\n",
       "\n",
       "    .dataframe thead th {\n",
       "        text-align: right;\n",
       "    }\n",
       "</style>\n",
       "<table border=\"1\" class=\"dataframe\">\n",
       "  <thead>\n",
       "    <tr style=\"text-align: right;\">\n",
       "      <th></th>\n",
       "      <th>Id</th>\n",
       "      <th>MSSubClass</th>\n",
       "      <th>MSZoning</th>\n",
       "      <th>LotFrontage</th>\n",
       "      <th>LotArea</th>\n",
       "      <th>Street</th>\n",
       "      <th>Alley</th>\n",
       "      <th>LotShape</th>\n",
       "      <th>LandContour</th>\n",
       "      <th>Utilities</th>\n",
       "      <th>...</th>\n",
       "      <th>PoolArea</th>\n",
       "      <th>PoolQC</th>\n",
       "      <th>Fence</th>\n",
       "      <th>MiscFeature</th>\n",
       "      <th>MiscVal</th>\n",
       "      <th>MoSold</th>\n",
       "      <th>YrSold</th>\n",
       "      <th>SaleType</th>\n",
       "      <th>SaleCondition</th>\n",
       "      <th>SalePrice</th>\n",
       "    </tr>\n",
       "  </thead>\n",
       "  <tbody>\n",
       "    <tr>\n",
       "      <th>0</th>\n",
       "      <td>1</td>\n",
       "      <td>60</td>\n",
       "      <td>RL</td>\n",
       "      <td>65.0</td>\n",
       "      <td>8450</td>\n",
       "      <td>Pave</td>\n",
       "      <td>NaN</td>\n",
       "      <td>Reg</td>\n",
       "      <td>Lvl</td>\n",
       "      <td>AllPub</td>\n",
       "      <td>...</td>\n",
       "      <td>0</td>\n",
       "      <td>NaN</td>\n",
       "      <td>NaN</td>\n",
       "      <td>NaN</td>\n",
       "      <td>0</td>\n",
       "      <td>2</td>\n",
       "      <td>2008</td>\n",
       "      <td>WD</td>\n",
       "      <td>Normal</td>\n",
       "      <td>208500</td>\n",
       "    </tr>\n",
       "    <tr>\n",
       "      <th>1</th>\n",
       "      <td>2</td>\n",
       "      <td>20</td>\n",
       "      <td>RL</td>\n",
       "      <td>80.0</td>\n",
       "      <td>9600</td>\n",
       "      <td>Pave</td>\n",
       "      <td>NaN</td>\n",
       "      <td>Reg</td>\n",
       "      <td>Lvl</td>\n",
       "      <td>AllPub</td>\n",
       "      <td>...</td>\n",
       "      <td>0</td>\n",
       "      <td>NaN</td>\n",
       "      <td>NaN</td>\n",
       "      <td>NaN</td>\n",
       "      <td>0</td>\n",
       "      <td>5</td>\n",
       "      <td>2007</td>\n",
       "      <td>WD</td>\n",
       "      <td>Normal</td>\n",
       "      <td>181500</td>\n",
       "    </tr>\n",
       "    <tr>\n",
       "      <th>2</th>\n",
       "      <td>3</td>\n",
       "      <td>60</td>\n",
       "      <td>RL</td>\n",
       "      <td>68.0</td>\n",
       "      <td>11250</td>\n",
       "      <td>Pave</td>\n",
       "      <td>NaN</td>\n",
       "      <td>IR1</td>\n",
       "      <td>Lvl</td>\n",
       "      <td>AllPub</td>\n",
       "      <td>...</td>\n",
       "      <td>0</td>\n",
       "      <td>NaN</td>\n",
       "      <td>NaN</td>\n",
       "      <td>NaN</td>\n",
       "      <td>0</td>\n",
       "      <td>9</td>\n",
       "      <td>2008</td>\n",
       "      <td>WD</td>\n",
       "      <td>Normal</td>\n",
       "      <td>223500</td>\n",
       "    </tr>\n",
       "    <tr>\n",
       "      <th>3</th>\n",
       "      <td>4</td>\n",
       "      <td>70</td>\n",
       "      <td>RL</td>\n",
       "      <td>60.0</td>\n",
       "      <td>9550</td>\n",
       "      <td>Pave</td>\n",
       "      <td>NaN</td>\n",
       "      <td>IR1</td>\n",
       "      <td>Lvl</td>\n",
       "      <td>AllPub</td>\n",
       "      <td>...</td>\n",
       "      <td>0</td>\n",
       "      <td>NaN</td>\n",
       "      <td>NaN</td>\n",
       "      <td>NaN</td>\n",
       "      <td>0</td>\n",
       "      <td>2</td>\n",
       "      <td>2006</td>\n",
       "      <td>WD</td>\n",
       "      <td>Abnorml</td>\n",
       "      <td>140000</td>\n",
       "    </tr>\n",
       "    <tr>\n",
       "      <th>4</th>\n",
       "      <td>5</td>\n",
       "      <td>60</td>\n",
       "      <td>RL</td>\n",
       "      <td>84.0</td>\n",
       "      <td>14260</td>\n",
       "      <td>Pave</td>\n",
       "      <td>NaN</td>\n",
       "      <td>IR1</td>\n",
       "      <td>Lvl</td>\n",
       "      <td>AllPub</td>\n",
       "      <td>...</td>\n",
       "      <td>0</td>\n",
       "      <td>NaN</td>\n",
       "      <td>NaN</td>\n",
       "      <td>NaN</td>\n",
       "      <td>0</td>\n",
       "      <td>12</td>\n",
       "      <td>2008</td>\n",
       "      <td>WD</td>\n",
       "      <td>Normal</td>\n",
       "      <td>250000</td>\n",
       "    </tr>\n",
       "  </tbody>\n",
       "</table>\n",
       "<p>5 rows × 81 columns</p>\n",
       "</div>"
      ],
      "text/plain": [
       "   Id  MSSubClass MSZoning  LotFrontage  LotArea Street Alley LotShape  \\\n",
       "0   1          60       RL         65.0     8450   Pave   NaN      Reg   \n",
       "1   2          20       RL         80.0     9600   Pave   NaN      Reg   \n",
       "2   3          60       RL         68.0    11250   Pave   NaN      IR1   \n",
       "3   4          70       RL         60.0     9550   Pave   NaN      IR1   \n",
       "4   5          60       RL         84.0    14260   Pave   NaN      IR1   \n",
       "\n",
       "  LandContour Utilities  ... PoolArea PoolQC Fence MiscFeature MiscVal MoSold  \\\n",
       "0         Lvl    AllPub  ...        0    NaN   NaN         NaN       0      2   \n",
       "1         Lvl    AllPub  ...        0    NaN   NaN         NaN       0      5   \n",
       "2         Lvl    AllPub  ...        0    NaN   NaN         NaN       0      9   \n",
       "3         Lvl    AllPub  ...        0    NaN   NaN         NaN       0      2   \n",
       "4         Lvl    AllPub  ...        0    NaN   NaN         NaN       0     12   \n",
       "\n",
       "  YrSold  SaleType  SaleCondition  SalePrice  \n",
       "0   2008        WD         Normal     208500  \n",
       "1   2007        WD         Normal     181500  \n",
       "2   2008        WD         Normal     223500  \n",
       "3   2006        WD        Abnorml     140000  \n",
       "4   2008        WD         Normal     250000  \n",
       "\n",
       "[5 rows x 81 columns]"
      ]
     },
     "execution_count": 3,
     "metadata": {},
     "output_type": "execute_result"
    }
   ],
   "source": [
    "df_train.head()"
   ]
  },
  {
   "cell_type": "code",
   "execution_count": 4,
   "id": "09ca2210",
   "metadata": {
    "execution": {
     "iopub.execute_input": "2025-06-20T13:05:19.756137Z",
     "iopub.status.busy": "2025-06-20T13:05:19.755819Z",
     "iopub.status.idle": "2025-06-20T13:05:19.773154Z",
     "shell.execute_reply": "2025-06-20T13:05:19.772288Z"
    },
    "papermill": {
     "duration": 0.028313,
     "end_time": "2025-06-20T13:05:19.774800",
     "exception": false,
     "start_time": "2025-06-20T13:05:19.746487",
     "status": "completed"
    },
    "tags": []
   },
   "outputs": [
    {
     "data": {
      "text/html": [
       "<div>\n",
       "<style scoped>\n",
       "    .dataframe tbody tr th:only-of-type {\n",
       "        vertical-align: middle;\n",
       "    }\n",
       "\n",
       "    .dataframe tbody tr th {\n",
       "        vertical-align: top;\n",
       "    }\n",
       "\n",
       "    .dataframe thead th {\n",
       "        text-align: right;\n",
       "    }\n",
       "</style>\n",
       "<table border=\"1\" class=\"dataframe\">\n",
       "  <thead>\n",
       "    <tr style=\"text-align: right;\">\n",
       "      <th></th>\n",
       "      <th>Id</th>\n",
       "      <th>MSSubClass</th>\n",
       "      <th>MSZoning</th>\n",
       "      <th>LotFrontage</th>\n",
       "      <th>LotArea</th>\n",
       "      <th>Street</th>\n",
       "      <th>Alley</th>\n",
       "      <th>LotShape</th>\n",
       "      <th>LandContour</th>\n",
       "      <th>Utilities</th>\n",
       "      <th>...</th>\n",
       "      <th>ScreenPorch</th>\n",
       "      <th>PoolArea</th>\n",
       "      <th>PoolQC</th>\n",
       "      <th>Fence</th>\n",
       "      <th>MiscFeature</th>\n",
       "      <th>MiscVal</th>\n",
       "      <th>MoSold</th>\n",
       "      <th>YrSold</th>\n",
       "      <th>SaleType</th>\n",
       "      <th>SaleCondition</th>\n",
       "    </tr>\n",
       "  </thead>\n",
       "  <tbody>\n",
       "    <tr>\n",
       "      <th>0</th>\n",
       "      <td>1461</td>\n",
       "      <td>20</td>\n",
       "      <td>RH</td>\n",
       "      <td>80.0</td>\n",
       "      <td>11622</td>\n",
       "      <td>Pave</td>\n",
       "      <td>NaN</td>\n",
       "      <td>Reg</td>\n",
       "      <td>Lvl</td>\n",
       "      <td>AllPub</td>\n",
       "      <td>...</td>\n",
       "      <td>120</td>\n",
       "      <td>0</td>\n",
       "      <td>NaN</td>\n",
       "      <td>MnPrv</td>\n",
       "      <td>NaN</td>\n",
       "      <td>0</td>\n",
       "      <td>6</td>\n",
       "      <td>2010</td>\n",
       "      <td>WD</td>\n",
       "      <td>Normal</td>\n",
       "    </tr>\n",
       "    <tr>\n",
       "      <th>1</th>\n",
       "      <td>1462</td>\n",
       "      <td>20</td>\n",
       "      <td>RL</td>\n",
       "      <td>81.0</td>\n",
       "      <td>14267</td>\n",
       "      <td>Pave</td>\n",
       "      <td>NaN</td>\n",
       "      <td>IR1</td>\n",
       "      <td>Lvl</td>\n",
       "      <td>AllPub</td>\n",
       "      <td>...</td>\n",
       "      <td>0</td>\n",
       "      <td>0</td>\n",
       "      <td>NaN</td>\n",
       "      <td>NaN</td>\n",
       "      <td>Gar2</td>\n",
       "      <td>12500</td>\n",
       "      <td>6</td>\n",
       "      <td>2010</td>\n",
       "      <td>WD</td>\n",
       "      <td>Normal</td>\n",
       "    </tr>\n",
       "    <tr>\n",
       "      <th>2</th>\n",
       "      <td>1463</td>\n",
       "      <td>60</td>\n",
       "      <td>RL</td>\n",
       "      <td>74.0</td>\n",
       "      <td>13830</td>\n",
       "      <td>Pave</td>\n",
       "      <td>NaN</td>\n",
       "      <td>IR1</td>\n",
       "      <td>Lvl</td>\n",
       "      <td>AllPub</td>\n",
       "      <td>...</td>\n",
       "      <td>0</td>\n",
       "      <td>0</td>\n",
       "      <td>NaN</td>\n",
       "      <td>MnPrv</td>\n",
       "      <td>NaN</td>\n",
       "      <td>0</td>\n",
       "      <td>3</td>\n",
       "      <td>2010</td>\n",
       "      <td>WD</td>\n",
       "      <td>Normal</td>\n",
       "    </tr>\n",
       "    <tr>\n",
       "      <th>3</th>\n",
       "      <td>1464</td>\n",
       "      <td>60</td>\n",
       "      <td>RL</td>\n",
       "      <td>78.0</td>\n",
       "      <td>9978</td>\n",
       "      <td>Pave</td>\n",
       "      <td>NaN</td>\n",
       "      <td>IR1</td>\n",
       "      <td>Lvl</td>\n",
       "      <td>AllPub</td>\n",
       "      <td>...</td>\n",
       "      <td>0</td>\n",
       "      <td>0</td>\n",
       "      <td>NaN</td>\n",
       "      <td>NaN</td>\n",
       "      <td>NaN</td>\n",
       "      <td>0</td>\n",
       "      <td>6</td>\n",
       "      <td>2010</td>\n",
       "      <td>WD</td>\n",
       "      <td>Normal</td>\n",
       "    </tr>\n",
       "    <tr>\n",
       "      <th>4</th>\n",
       "      <td>1465</td>\n",
       "      <td>120</td>\n",
       "      <td>RL</td>\n",
       "      <td>43.0</td>\n",
       "      <td>5005</td>\n",
       "      <td>Pave</td>\n",
       "      <td>NaN</td>\n",
       "      <td>IR1</td>\n",
       "      <td>HLS</td>\n",
       "      <td>AllPub</td>\n",
       "      <td>...</td>\n",
       "      <td>144</td>\n",
       "      <td>0</td>\n",
       "      <td>NaN</td>\n",
       "      <td>NaN</td>\n",
       "      <td>NaN</td>\n",
       "      <td>0</td>\n",
       "      <td>1</td>\n",
       "      <td>2010</td>\n",
       "      <td>WD</td>\n",
       "      <td>Normal</td>\n",
       "    </tr>\n",
       "  </tbody>\n",
       "</table>\n",
       "<p>5 rows × 80 columns</p>\n",
       "</div>"
      ],
      "text/plain": [
       "     Id  MSSubClass MSZoning  LotFrontage  LotArea Street Alley LotShape  \\\n",
       "0  1461          20       RH         80.0    11622   Pave   NaN      Reg   \n",
       "1  1462          20       RL         81.0    14267   Pave   NaN      IR1   \n",
       "2  1463          60       RL         74.0    13830   Pave   NaN      IR1   \n",
       "3  1464          60       RL         78.0     9978   Pave   NaN      IR1   \n",
       "4  1465         120       RL         43.0     5005   Pave   NaN      IR1   \n",
       "\n",
       "  LandContour Utilities  ... ScreenPorch PoolArea PoolQC  Fence MiscFeature  \\\n",
       "0         Lvl    AllPub  ...         120        0    NaN  MnPrv         NaN   \n",
       "1         Lvl    AllPub  ...           0        0    NaN    NaN        Gar2   \n",
       "2         Lvl    AllPub  ...           0        0    NaN  MnPrv         NaN   \n",
       "3         Lvl    AllPub  ...           0        0    NaN    NaN         NaN   \n",
       "4         HLS    AllPub  ...         144        0    NaN    NaN         NaN   \n",
       "\n",
       "  MiscVal MoSold  YrSold  SaleType  SaleCondition  \n",
       "0       0      6    2010        WD         Normal  \n",
       "1   12500      6    2010        WD         Normal  \n",
       "2       0      3    2010        WD         Normal  \n",
       "3       0      6    2010        WD         Normal  \n",
       "4       0      1    2010        WD         Normal  \n",
       "\n",
       "[5 rows x 80 columns]"
      ]
     },
     "execution_count": 4,
     "metadata": {},
     "output_type": "execute_result"
    }
   ],
   "source": [
    "df_test.head()"
   ]
  },
  {
   "cell_type": "code",
   "execution_count": 5,
   "id": "ba4ab543",
   "metadata": {
    "execution": {
     "iopub.execute_input": "2025-06-20T13:05:19.793748Z",
     "iopub.status.busy": "2025-06-20T13:05:19.793382Z",
     "iopub.status.idle": "2025-06-20T13:05:19.802182Z",
     "shell.execute_reply": "2025-06-20T13:05:19.801430Z"
    },
    "papermill": {
     "duration": 0.019749,
     "end_time": "2025-06-20T13:05:19.803379",
     "exception": false,
     "start_time": "2025-06-20T13:05:19.783630",
     "status": "completed"
    },
    "tags": []
   },
   "outputs": [
    {
     "data": {
      "text/html": [
       "<div>\n",
       "<style scoped>\n",
       "    .dataframe tbody tr th:only-of-type {\n",
       "        vertical-align: middle;\n",
       "    }\n",
       "\n",
       "    .dataframe tbody tr th {\n",
       "        vertical-align: top;\n",
       "    }\n",
       "\n",
       "    .dataframe thead th {\n",
       "        text-align: right;\n",
       "    }\n",
       "</style>\n",
       "<table border=\"1\" class=\"dataframe\">\n",
       "  <thead>\n",
       "    <tr style=\"text-align: right;\">\n",
       "      <th></th>\n",
       "      <th>Id</th>\n",
       "      <th>SalePrice</th>\n",
       "    </tr>\n",
       "  </thead>\n",
       "  <tbody>\n",
       "    <tr>\n",
       "      <th>0</th>\n",
       "      <td>1461</td>\n",
       "      <td>169277.052498</td>\n",
       "    </tr>\n",
       "    <tr>\n",
       "      <th>1</th>\n",
       "      <td>1462</td>\n",
       "      <td>187758.393989</td>\n",
       "    </tr>\n",
       "    <tr>\n",
       "      <th>2</th>\n",
       "      <td>1463</td>\n",
       "      <td>183583.683570</td>\n",
       "    </tr>\n",
       "    <tr>\n",
       "      <th>3</th>\n",
       "      <td>1464</td>\n",
       "      <td>179317.477511</td>\n",
       "    </tr>\n",
       "    <tr>\n",
       "      <th>4</th>\n",
       "      <td>1465</td>\n",
       "      <td>150730.079977</td>\n",
       "    </tr>\n",
       "  </tbody>\n",
       "</table>\n",
       "</div>"
      ],
      "text/plain": [
       "     Id      SalePrice\n",
       "0  1461  169277.052498\n",
       "1  1462  187758.393989\n",
       "2  1463  183583.683570\n",
       "3  1464  179317.477511\n",
       "4  1465  150730.079977"
      ]
     },
     "execution_count": 5,
     "metadata": {},
     "output_type": "execute_result"
    }
   ],
   "source": [
    "df_submission.head()"
   ]
  },
  {
   "cell_type": "code",
   "execution_count": 6,
   "id": "dc6870f9",
   "metadata": {
    "execution": {
     "iopub.execute_input": "2025-06-20T13:05:19.822616Z",
     "iopub.status.busy": "2025-06-20T13:05:19.822280Z",
     "iopub.status.idle": "2025-06-20T13:05:19.841861Z",
     "shell.execute_reply": "2025-06-20T13:05:19.841098Z"
    },
    "papermill": {
     "duration": 0.030919,
     "end_time": "2025-06-20T13:05:19.843447",
     "exception": false,
     "start_time": "2025-06-20T13:05:19.812528",
     "status": "completed"
    },
    "tags": []
   },
   "outputs": [],
   "source": [
    "y_train = np.log1p(df_train['SalePrice']) #log1p = log(1+x)\n",
    "y_test = np.log1p(df_submission['SalePrice'])"
   ]
  },
  {
   "cell_type": "code",
   "execution_count": 7,
   "id": "12e9d3bb",
   "metadata": {
    "execution": {
     "iopub.execute_input": "2025-06-20T13:05:19.861897Z",
     "iopub.status.busy": "2025-06-20T13:05:19.861540Z",
     "iopub.status.idle": "2025-06-20T13:05:19.892899Z",
     "shell.execute_reply": "2025-06-20T13:05:19.891928Z"
    },
    "papermill": {
     "duration": 0.042414,
     "end_time": "2025-06-20T13:05:19.894496",
     "exception": false,
     "start_time": "2025-06-20T13:05:19.852082",
     "status": "completed"
    },
    "tags": []
   },
   "outputs": [
    {
     "name": "stdout",
     "output_type": "stream",
     "text": [
      "<class 'pandas.core.frame.DataFrame'>\n",
      "RangeIndex: 1460 entries, 0 to 1459\n",
      "Data columns (total 81 columns):\n",
      " #   Column         Non-Null Count  Dtype  \n",
      "---  ------         --------------  -----  \n",
      " 0   Id             1460 non-null   int64  \n",
      " 1   MSSubClass     1460 non-null   int64  \n",
      " 2   MSZoning       1460 non-null   object \n",
      " 3   LotFrontage    1201 non-null   float64\n",
      " 4   LotArea        1460 non-null   int64  \n",
      " 5   Street         1460 non-null   object \n",
      " 6   Alley          91 non-null     object \n",
      " 7   LotShape       1460 non-null   object \n",
      " 8   LandContour    1460 non-null   object \n",
      " 9   Utilities      1460 non-null   object \n",
      " 10  LotConfig      1460 non-null   object \n",
      " 11  LandSlope      1460 non-null   object \n",
      " 12  Neighborhood   1460 non-null   object \n",
      " 13  Condition1     1460 non-null   object \n",
      " 14  Condition2     1460 non-null   object \n",
      " 15  BldgType       1460 non-null   object \n",
      " 16  HouseStyle     1460 non-null   object \n",
      " 17  OverallQual    1460 non-null   int64  \n",
      " 18  OverallCond    1460 non-null   int64  \n",
      " 19  YearBuilt      1460 non-null   int64  \n",
      " 20  YearRemodAdd   1460 non-null   int64  \n",
      " 21  RoofStyle      1460 non-null   object \n",
      " 22  RoofMatl       1460 non-null   object \n",
      " 23  Exterior1st    1460 non-null   object \n",
      " 24  Exterior2nd    1460 non-null   object \n",
      " 25  MasVnrType     588 non-null    object \n",
      " 26  MasVnrArea     1452 non-null   float64\n",
      " 27  ExterQual      1460 non-null   object \n",
      " 28  ExterCond      1460 non-null   object \n",
      " 29  Foundation     1460 non-null   object \n",
      " 30  BsmtQual       1423 non-null   object \n",
      " 31  BsmtCond       1423 non-null   object \n",
      " 32  BsmtExposure   1422 non-null   object \n",
      " 33  BsmtFinType1   1423 non-null   object \n",
      " 34  BsmtFinSF1     1460 non-null   int64  \n",
      " 35  BsmtFinType2   1422 non-null   object \n",
      " 36  BsmtFinSF2     1460 non-null   int64  \n",
      " 37  BsmtUnfSF      1460 non-null   int64  \n",
      " 38  TotalBsmtSF    1460 non-null   int64  \n",
      " 39  Heating        1460 non-null   object \n",
      " 40  HeatingQC      1460 non-null   object \n",
      " 41  CentralAir     1460 non-null   object \n",
      " 42  Electrical     1459 non-null   object \n",
      " 43  1stFlrSF       1460 non-null   int64  \n",
      " 44  2ndFlrSF       1460 non-null   int64  \n",
      " 45  LowQualFinSF   1460 non-null   int64  \n",
      " 46  GrLivArea      1460 non-null   int64  \n",
      " 47  BsmtFullBath   1460 non-null   int64  \n",
      " 48  BsmtHalfBath   1460 non-null   int64  \n",
      " 49  FullBath       1460 non-null   int64  \n",
      " 50  HalfBath       1460 non-null   int64  \n",
      " 51  BedroomAbvGr   1460 non-null   int64  \n",
      " 52  KitchenAbvGr   1460 non-null   int64  \n",
      " 53  KitchenQual    1460 non-null   object \n",
      " 54  TotRmsAbvGrd   1460 non-null   int64  \n",
      " 55  Functional     1460 non-null   object \n",
      " 56  Fireplaces     1460 non-null   int64  \n",
      " 57  FireplaceQu    770 non-null    object \n",
      " 58  GarageType     1379 non-null   object \n",
      " 59  GarageYrBlt    1379 non-null   float64\n",
      " 60  GarageFinish   1379 non-null   object \n",
      " 61  GarageCars     1460 non-null   int64  \n",
      " 62  GarageArea     1460 non-null   int64  \n",
      " 63  GarageQual     1379 non-null   object \n",
      " 64  GarageCond     1379 non-null   object \n",
      " 65  PavedDrive     1460 non-null   object \n",
      " 66  WoodDeckSF     1460 non-null   int64  \n",
      " 67  OpenPorchSF    1460 non-null   int64  \n",
      " 68  EnclosedPorch  1460 non-null   int64  \n",
      " 69  3SsnPorch      1460 non-null   int64  \n",
      " 70  ScreenPorch    1460 non-null   int64  \n",
      " 71  PoolArea       1460 non-null   int64  \n",
      " 72  PoolQC         7 non-null      object \n",
      " 73  Fence          281 non-null    object \n",
      " 74  MiscFeature    54 non-null     object \n",
      " 75  MiscVal        1460 non-null   int64  \n",
      " 76  MoSold         1460 non-null   int64  \n",
      " 77  YrSold         1460 non-null   int64  \n",
      " 78  SaleType       1460 non-null   object \n",
      " 79  SaleCondition  1460 non-null   object \n",
      " 80  SalePrice      1460 non-null   int64  \n",
      "dtypes: float64(3), int64(35), object(43)\n",
      "memory usage: 924.0+ KB\n"
     ]
    }
   ],
   "source": [
    "df_train.info()"
   ]
  },
  {
   "cell_type": "code",
   "execution_count": 8,
   "id": "30f19a8d",
   "metadata": {
    "execution": {
     "iopub.execute_input": "2025-06-20T13:05:19.914111Z",
     "iopub.status.busy": "2025-06-20T13:05:19.913277Z",
     "iopub.status.idle": "2025-06-20T13:05:19.922919Z",
     "shell.execute_reply": "2025-06-20T13:05:19.922119Z"
    },
    "papermill": {
     "duration": 0.020885,
     "end_time": "2025-06-20T13:05:19.924307",
     "exception": false,
     "start_time": "2025-06-20T13:05:19.903422",
     "status": "completed"
    },
    "tags": []
   },
   "outputs": [],
   "source": [
    "#merge date frames to get rid of unnecessary ones and digitise functions correctly at the same time \n",
    "data = pd.concat([df_train.drop('SalePrice', axis=1), df_test])"
   ]
  },
  {
   "cell_type": "markdown",
   "id": "72641905",
   "metadata": {
    "papermill": {
     "duration": 0.008498,
     "end_time": "2025-06-20T13:05:19.941672",
     "exception": false,
     "start_time": "2025-06-20T13:05:19.933174",
     "status": "completed"
    },
    "tags": []
   },
   "source": [
    "# missing value"
   ]
  },
  {
   "cell_type": "code",
   "execution_count": 9,
   "id": "0130a65b",
   "metadata": {
    "execution": {
     "iopub.execute_input": "2025-06-20T13:05:19.960813Z",
     "iopub.status.busy": "2025-06-20T13:05:19.960128Z",
     "iopub.status.idle": "2025-06-20T13:05:19.975022Z",
     "shell.execute_reply": "2025-06-20T13:05:19.974132Z"
    },
    "papermill": {
     "duration": 0.025923,
     "end_time": "2025-06-20T13:05:19.976283",
     "exception": false,
     "start_time": "2025-06-20T13:05:19.950360",
     "status": "completed"
    },
    "tags": []
   },
   "outputs": [
    {
     "name": "stdout",
     "output_type": "stream",
     "text": [
      "PoolQC         2909\n",
      "MiscFeature    2814\n",
      "Alley          2721\n",
      "Fence          2348\n",
      "MasVnrType     1766\n",
      "FireplaceQu    1420\n",
      "LotFrontage     486\n",
      "GarageQual      159\n",
      "GarageCond      159\n",
      "GarageYrBlt     159\n",
      "dtype: int64\n"
     ]
    }
   ],
   "source": [
    "print(data.isna().sum().sort_values(ascending=False).head(10))"
   ]
  },
  {
   "cell_type": "code",
   "execution_count": 10,
   "id": "c766417e",
   "metadata": {
    "execution": {
     "iopub.execute_input": "2025-06-20T13:05:19.995637Z",
     "iopub.status.busy": "2025-06-20T13:05:19.995318Z",
     "iopub.status.idle": "2025-06-20T13:05:20.003286Z",
     "shell.execute_reply": "2025-06-20T13:05:20.002504Z"
    },
    "papermill": {
     "duration": 0.019389,
     "end_time": "2025-06-20T13:05:20.004695",
     "exception": false,
     "start_time": "2025-06-20T13:05:19.985306",
     "status": "completed"
    },
    "tags": []
   },
   "outputs": [],
   "source": [
    "# drop missing values\n",
    "data = data.drop(['PoolQC','MiscFeature','Alley','Fence', 'MasVnrType', 'FireplaceQu' ], axis=1)\n"
   ]
  },
  {
   "cell_type": "code",
   "execution_count": 11,
   "id": "b4c8913a",
   "metadata": {
    "execution": {
     "iopub.execute_input": "2025-06-20T13:05:20.023898Z",
     "iopub.status.busy": "2025-06-20T13:05:20.023233Z",
     "iopub.status.idle": "2025-06-20T13:05:20.027992Z",
     "shell.execute_reply": "2025-06-20T13:05:20.027100Z"
    },
    "papermill": {
     "duration": 0.015703,
     "end_time": "2025-06-20T13:05:20.029323",
     "exception": false,
     "start_time": "2025-06-20T13:05:20.013620",
     "status": "completed"
    },
    "tags": []
   },
   "outputs": [
    {
     "name": "stdout",
     "output_type": "stream",
     "text": [
      "(2919, 74)\n"
     ]
    }
   ],
   "source": [
    "print(data.shape)"
   ]
  },
  {
   "cell_type": "code",
   "execution_count": 12,
   "id": "11b024e0",
   "metadata": {
    "execution": {
     "iopub.execute_input": "2025-06-20T13:05:20.049039Z",
     "iopub.status.busy": "2025-06-20T13:05:20.048224Z",
     "iopub.status.idle": "2025-06-20T13:05:20.064994Z",
     "shell.execute_reply": "2025-06-20T13:05:20.064028Z"
    },
    "papermill": {
     "duration": 0.028227,
     "end_time": "2025-06-20T13:05:20.066461",
     "exception": false,
     "start_time": "2025-06-20T13:05:20.038234",
     "status": "completed"
    },
    "tags": []
   },
   "outputs": [
    {
     "data": {
      "text/plain": [
       "LotFrontage     486\n",
       "GarageYrBlt     159\n",
       "GarageCond      159\n",
       "GarageQual      159\n",
       "GarageFinish    159\n",
       "GarageType      157\n",
       "BsmtCond         82\n",
       "BsmtExposure     82\n",
       "BsmtQual         81\n",
       "BsmtFinType2     80\n",
       "BsmtFinType1     79\n",
       "MasVnrArea       23\n",
       "MSZoning          4\n",
       "Functional        2\n",
       "Utilities         2\n",
       "BsmtFullBath      2\n",
       "BsmtHalfBath      2\n",
       "GarageArea        1\n",
       "GarageCars        1\n",
       "TotalBsmtSF       1\n",
       "KitchenQual       1\n",
       "Electrical        1\n",
       "BsmtUnfSF         1\n",
       "BsmtFinSF2        1\n",
       "BsmtFinSF1        1\n",
       "Exterior2nd       1\n",
       "Exterior1st       1\n",
       "SaleType          1\n",
       "dtype: int64"
      ]
     },
     "execution_count": 12,
     "metadata": {},
     "output_type": "execute_result"
    }
   ],
   "source": [
    "#  rare missing values\n",
    "missing_values = data.isnull().sum()\n",
    "missing_values[missing_values > 0].sort_values(ascending=False)"
   ]
  },
  {
   "cell_type": "code",
   "execution_count": 13,
   "id": "1f854e48",
   "metadata": {
    "execution": {
     "iopub.execute_input": "2025-06-20T13:05:20.153345Z",
     "iopub.status.busy": "2025-06-20T13:05:20.153063Z",
     "iopub.status.idle": "2025-06-20T13:05:20.188653Z",
     "shell.execute_reply": "2025-06-20T13:05:20.187785Z"
    },
    "papermill": {
     "duration": 0.113984,
     "end_time": "2025-06-20T13:05:20.190038",
     "exception": false,
     "start_time": "2025-06-20T13:05:20.076054",
     "status": "completed"
    },
    "tags": []
   },
   "outputs": [
    {
     "data": {
      "text/html": [
       "<div>\n",
       "<style scoped>\n",
       "    .dataframe tbody tr th:only-of-type {\n",
       "        vertical-align: middle;\n",
       "    }\n",
       "\n",
       "    .dataframe tbody tr th {\n",
       "        vertical-align: top;\n",
       "    }\n",
       "\n",
       "    .dataframe thead th {\n",
       "        text-align: right;\n",
       "    }\n",
       "</style>\n",
       "<table border=\"1\" class=\"dataframe\">\n",
       "  <thead>\n",
       "    <tr style=\"text-align: right;\">\n",
       "      <th></th>\n",
       "      <th>LotFrontage</th>\n",
       "      <th>MasVnrArea</th>\n",
       "      <th>BsmtFinSF1</th>\n",
       "      <th>BsmtFinSF2</th>\n",
       "      <th>BsmtUnfSF</th>\n",
       "      <th>TotalBsmtSF</th>\n",
       "      <th>BsmtFullBath</th>\n",
       "      <th>BsmtHalfBath</th>\n",
       "      <th>GarageYrBlt</th>\n",
       "      <th>GarageCars</th>\n",
       "      <th>GarageArea</th>\n",
       "    </tr>\n",
       "  </thead>\n",
       "  <tbody>\n",
       "    <tr>\n",
       "      <th>count</th>\n",
       "      <td>2433.000000</td>\n",
       "      <td>2896.000000</td>\n",
       "      <td>2918.000000</td>\n",
       "      <td>2918.000000</td>\n",
       "      <td>2918.000000</td>\n",
       "      <td>2918.000000</td>\n",
       "      <td>2917.000000</td>\n",
       "      <td>2917.000000</td>\n",
       "      <td>2760.000000</td>\n",
       "      <td>2918.000000</td>\n",
       "      <td>2918.000000</td>\n",
       "    </tr>\n",
       "    <tr>\n",
       "      <th>mean</th>\n",
       "      <td>69.305795</td>\n",
       "      <td>102.201312</td>\n",
       "      <td>441.423235</td>\n",
       "      <td>49.582248</td>\n",
       "      <td>560.772104</td>\n",
       "      <td>1051.777587</td>\n",
       "      <td>0.429894</td>\n",
       "      <td>0.061364</td>\n",
       "      <td>1978.113406</td>\n",
       "      <td>1.766621</td>\n",
       "      <td>472.874572</td>\n",
       "    </tr>\n",
       "    <tr>\n",
       "      <th>std</th>\n",
       "      <td>23.344905</td>\n",
       "      <td>179.334253</td>\n",
       "      <td>455.610826</td>\n",
       "      <td>169.205611</td>\n",
       "      <td>439.543659</td>\n",
       "      <td>440.766258</td>\n",
       "      <td>0.524736</td>\n",
       "      <td>0.245687</td>\n",
       "      <td>25.574285</td>\n",
       "      <td>0.761624</td>\n",
       "      <td>215.394815</td>\n",
       "    </tr>\n",
       "    <tr>\n",
       "      <th>min</th>\n",
       "      <td>21.000000</td>\n",
       "      <td>0.000000</td>\n",
       "      <td>0.000000</td>\n",
       "      <td>0.000000</td>\n",
       "      <td>0.000000</td>\n",
       "      <td>0.000000</td>\n",
       "      <td>0.000000</td>\n",
       "      <td>0.000000</td>\n",
       "      <td>1895.000000</td>\n",
       "      <td>0.000000</td>\n",
       "      <td>0.000000</td>\n",
       "    </tr>\n",
       "    <tr>\n",
       "      <th>25%</th>\n",
       "      <td>59.000000</td>\n",
       "      <td>0.000000</td>\n",
       "      <td>0.000000</td>\n",
       "      <td>0.000000</td>\n",
       "      <td>220.000000</td>\n",
       "      <td>793.000000</td>\n",
       "      <td>0.000000</td>\n",
       "      <td>0.000000</td>\n",
       "      <td>1960.000000</td>\n",
       "      <td>1.000000</td>\n",
       "      <td>320.000000</td>\n",
       "    </tr>\n",
       "    <tr>\n",
       "      <th>50%</th>\n",
       "      <td>68.000000</td>\n",
       "      <td>0.000000</td>\n",
       "      <td>368.500000</td>\n",
       "      <td>0.000000</td>\n",
       "      <td>467.000000</td>\n",
       "      <td>989.500000</td>\n",
       "      <td>0.000000</td>\n",
       "      <td>0.000000</td>\n",
       "      <td>1979.000000</td>\n",
       "      <td>2.000000</td>\n",
       "      <td>480.000000</td>\n",
       "    </tr>\n",
       "    <tr>\n",
       "      <th>75%</th>\n",
       "      <td>80.000000</td>\n",
       "      <td>164.000000</td>\n",
       "      <td>733.000000</td>\n",
       "      <td>0.000000</td>\n",
       "      <td>805.500000</td>\n",
       "      <td>1302.000000</td>\n",
       "      <td>1.000000</td>\n",
       "      <td>0.000000</td>\n",
       "      <td>2002.000000</td>\n",
       "      <td>2.000000</td>\n",
       "      <td>576.000000</td>\n",
       "    </tr>\n",
       "    <tr>\n",
       "      <th>max</th>\n",
       "      <td>313.000000</td>\n",
       "      <td>1600.000000</td>\n",
       "      <td>5644.000000</td>\n",
       "      <td>1526.000000</td>\n",
       "      <td>2336.000000</td>\n",
       "      <td>6110.000000</td>\n",
       "      <td>3.000000</td>\n",
       "      <td>2.000000</td>\n",
       "      <td>2207.000000</td>\n",
       "      <td>5.000000</td>\n",
       "      <td>1488.000000</td>\n",
       "    </tr>\n",
       "  </tbody>\n",
       "</table>\n",
       "</div>"
      ],
      "text/plain": [
       "       LotFrontage   MasVnrArea   BsmtFinSF1   BsmtFinSF2    BsmtUnfSF  \\\n",
       "count  2433.000000  2896.000000  2918.000000  2918.000000  2918.000000   \n",
       "mean     69.305795   102.201312   441.423235    49.582248   560.772104   \n",
       "std      23.344905   179.334253   455.610826   169.205611   439.543659   \n",
       "min      21.000000     0.000000     0.000000     0.000000     0.000000   \n",
       "25%      59.000000     0.000000     0.000000     0.000000   220.000000   \n",
       "50%      68.000000     0.000000   368.500000     0.000000   467.000000   \n",
       "75%      80.000000   164.000000   733.000000     0.000000   805.500000   \n",
       "max     313.000000  1600.000000  5644.000000  1526.000000  2336.000000   \n",
       "\n",
       "       TotalBsmtSF  BsmtFullBath  BsmtHalfBath  GarageYrBlt   GarageCars  \\\n",
       "count  2918.000000   2917.000000   2917.000000  2760.000000  2918.000000   \n",
       "mean   1051.777587      0.429894      0.061364  1978.113406     1.766621   \n",
       "std     440.766258      0.524736      0.245687    25.574285     0.761624   \n",
       "min       0.000000      0.000000      0.000000  1895.000000     0.000000   \n",
       "25%     793.000000      0.000000      0.000000  1960.000000     1.000000   \n",
       "50%     989.500000      0.000000      0.000000  1979.000000     2.000000   \n",
       "75%    1302.000000      1.000000      0.000000  2002.000000     2.000000   \n",
       "max    6110.000000      3.000000      2.000000  2207.000000     5.000000   \n",
       "\n",
       "        GarageArea  \n",
       "count  2918.000000  \n",
       "mean    472.874572  \n",
       "std     215.394815  \n",
       "min       0.000000  \n",
       "25%     320.000000  \n",
       "50%     480.000000  \n",
       "75%     576.000000  \n",
       "max    1488.000000  "
      ]
     },
     "execution_count": 13,
     "metadata": {},
     "output_type": "execute_result"
    }
   ],
   "source": [
    "columns_with_na = missing_values[missing_values > 0].index.tolist()\n",
    "#Filter only numeric columns among them\n",
    "numeric_na_cols = [\n",
    "    col for col in columns_with_na\n",
    "    if pd.api.types.is_numeric_dtype(data[col])\n",
    "]\n",
    "data[numeric_na_cols].describe()"
   ]
  },
  {
   "cell_type": "code",
   "execution_count": 14,
   "id": "11f8065e",
   "metadata": {
    "execution": {
     "iopub.execute_input": "2025-06-20T13:05:20.211099Z",
     "iopub.status.busy": "2025-06-20T13:05:20.210230Z",
     "iopub.status.idle": "2025-06-20T13:05:20.222118Z",
     "shell.execute_reply": "2025-06-20T13:05:20.221332Z"
    },
    "papermill": {
     "duration": 0.02351,
     "end_time": "2025-06-20T13:05:20.223600",
     "exception": false,
     "start_time": "2025-06-20T13:05:20.200090",
     "status": "completed"
    },
    "tags": []
   },
   "outputs": [],
   "source": [
    "#  replace missing values\n",
    "data[numeric_na_cols] = data[numeric_na_cols].fillna(data[numeric_na_cols].median())"
   ]
  },
  {
   "cell_type": "code",
   "execution_count": 15,
   "id": "b45e0103",
   "metadata": {
    "execution": {
     "iopub.execute_input": "2025-06-20T13:05:20.244707Z",
     "iopub.status.busy": "2025-06-20T13:05:20.243991Z",
     "iopub.status.idle": "2025-06-20T13:05:20.283427Z",
     "shell.execute_reply": "2025-06-20T13:05:20.282570Z"
    },
    "papermill": {
     "duration": 0.051912,
     "end_time": "2025-06-20T13:05:20.285133",
     "exception": false,
     "start_time": "2025-06-20T13:05:20.233221",
     "status": "completed"
    },
    "tags": []
   },
   "outputs": [
    {
     "data": {
      "text/html": [
       "<div>\n",
       "<style scoped>\n",
       "    .dataframe tbody tr th:only-of-type {\n",
       "        vertical-align: middle;\n",
       "    }\n",
       "\n",
       "    .dataframe tbody tr th {\n",
       "        vertical-align: top;\n",
       "    }\n",
       "\n",
       "    .dataframe thead th {\n",
       "        text-align: right;\n",
       "    }\n",
       "</style>\n",
       "<table border=\"1\" class=\"dataframe\">\n",
       "  <thead>\n",
       "    <tr style=\"text-align: right;\">\n",
       "      <th></th>\n",
       "      <th>MSZoning</th>\n",
       "      <th>Utilities</th>\n",
       "      <th>Exterior1st</th>\n",
       "      <th>Exterior2nd</th>\n",
       "      <th>BsmtQual</th>\n",
       "      <th>BsmtCond</th>\n",
       "      <th>BsmtExposure</th>\n",
       "      <th>BsmtFinType1</th>\n",
       "      <th>BsmtFinType2</th>\n",
       "      <th>Electrical</th>\n",
       "      <th>KitchenQual</th>\n",
       "      <th>Functional</th>\n",
       "      <th>GarageType</th>\n",
       "      <th>GarageFinish</th>\n",
       "      <th>GarageQual</th>\n",
       "      <th>GarageCond</th>\n",
       "      <th>SaleType</th>\n",
       "    </tr>\n",
       "  </thead>\n",
       "  <tbody>\n",
       "    <tr>\n",
       "      <th>count</th>\n",
       "      <td>2915</td>\n",
       "      <td>2917</td>\n",
       "      <td>2918</td>\n",
       "      <td>2918</td>\n",
       "      <td>2838</td>\n",
       "      <td>2837</td>\n",
       "      <td>2837</td>\n",
       "      <td>2840</td>\n",
       "      <td>2839</td>\n",
       "      <td>2918</td>\n",
       "      <td>2918</td>\n",
       "      <td>2917</td>\n",
       "      <td>2762</td>\n",
       "      <td>2760</td>\n",
       "      <td>2760</td>\n",
       "      <td>2760</td>\n",
       "      <td>2918</td>\n",
       "    </tr>\n",
       "    <tr>\n",
       "      <th>unique</th>\n",
       "      <td>5</td>\n",
       "      <td>2</td>\n",
       "      <td>15</td>\n",
       "      <td>16</td>\n",
       "      <td>4</td>\n",
       "      <td>4</td>\n",
       "      <td>4</td>\n",
       "      <td>6</td>\n",
       "      <td>6</td>\n",
       "      <td>5</td>\n",
       "      <td>4</td>\n",
       "      <td>7</td>\n",
       "      <td>6</td>\n",
       "      <td>3</td>\n",
       "      <td>5</td>\n",
       "      <td>5</td>\n",
       "      <td>9</td>\n",
       "    </tr>\n",
       "    <tr>\n",
       "      <th>top</th>\n",
       "      <td>RL</td>\n",
       "      <td>AllPub</td>\n",
       "      <td>VinylSd</td>\n",
       "      <td>VinylSd</td>\n",
       "      <td>TA</td>\n",
       "      <td>TA</td>\n",
       "      <td>No</td>\n",
       "      <td>Unf</td>\n",
       "      <td>Unf</td>\n",
       "      <td>SBrkr</td>\n",
       "      <td>TA</td>\n",
       "      <td>Typ</td>\n",
       "      <td>Attchd</td>\n",
       "      <td>Unf</td>\n",
       "      <td>TA</td>\n",
       "      <td>TA</td>\n",
       "      <td>WD</td>\n",
       "    </tr>\n",
       "    <tr>\n",
       "      <th>freq</th>\n",
       "      <td>2265</td>\n",
       "      <td>2916</td>\n",
       "      <td>1025</td>\n",
       "      <td>1014</td>\n",
       "      <td>1283</td>\n",
       "      <td>2606</td>\n",
       "      <td>1904</td>\n",
       "      <td>851</td>\n",
       "      <td>2493</td>\n",
       "      <td>2671</td>\n",
       "      <td>1492</td>\n",
       "      <td>2717</td>\n",
       "      <td>1723</td>\n",
       "      <td>1230</td>\n",
       "      <td>2604</td>\n",
       "      <td>2654</td>\n",
       "      <td>2525</td>\n",
       "    </tr>\n",
       "  </tbody>\n",
       "</table>\n",
       "</div>"
      ],
      "text/plain": [
       "       MSZoning Utilities Exterior1st Exterior2nd BsmtQual BsmtCond  \\\n",
       "count      2915      2917        2918        2918     2838     2837   \n",
       "unique        5         2          15          16        4        4   \n",
       "top          RL    AllPub     VinylSd     VinylSd       TA       TA   \n",
       "freq       2265      2916        1025        1014     1283     2606   \n",
       "\n",
       "       BsmtExposure BsmtFinType1 BsmtFinType2 Electrical KitchenQual  \\\n",
       "count          2837         2840         2839       2918        2918   \n",
       "unique            4            6            6          5           4   \n",
       "top              No          Unf          Unf      SBrkr          TA   \n",
       "freq           1904          851         2493       2671        1492   \n",
       "\n",
       "       Functional GarageType GarageFinish GarageQual GarageCond SaleType  \n",
       "count        2917       2762         2760       2760       2760     2918  \n",
       "unique          7          6            3          5          5        9  \n",
       "top           Typ     Attchd          Unf         TA         TA       WD  \n",
       "freq         2717       1723         1230       2604       2654     2525  "
      ]
     },
     "execution_count": 15,
     "metadata": {},
     "output_type": "execute_result"
    }
   ],
   "source": [
    "# Select only non-numeric columns\n",
    "non_numeric_na_cols = [\n",
    "    col for col in columns_with_na\n",
    "    if not pd.api.types.is_numeric_dtype(data[col])\n",
    "]\n",
    "data[non_numeric_na_cols].describe()"
   ]
  },
  {
   "cell_type": "code",
   "execution_count": 16,
   "id": "d09b4a44",
   "metadata": {
    "execution": {
     "iopub.execute_input": "2025-06-20T13:05:20.308231Z",
     "iopub.status.busy": "2025-06-20T13:05:20.307902Z",
     "iopub.status.idle": "2025-06-20T13:05:20.332562Z",
     "shell.execute_reply": "2025-06-20T13:05:20.331809Z"
    },
    "papermill": {
     "duration": 0.038739,
     "end_time": "2025-06-20T13:05:20.334190",
     "exception": false,
     "start_time": "2025-06-20T13:05:20.295451",
     "status": "completed"
    },
    "tags": []
   },
   "outputs": [],
   "source": [
    "#  replace missing values\n",
    "data[non_numeric_na_cols] = data[non_numeric_na_cols].apply(lambda col: col.fillna(col.mode()[0]))"
   ]
  },
  {
   "cell_type": "markdown",
   "id": "c13b4793",
   "metadata": {
    "papermill": {
     "duration": 0.00912,
     "end_time": "2025-06-20T13:05:20.352792",
     "exception": false,
     "start_time": "2025-06-20T13:05:20.343672",
     "status": "completed"
    },
    "tags": []
   },
   "source": [
    "Ensure that all NaNs are replaced"
   ]
  },
  {
   "cell_type": "code",
   "execution_count": 17,
   "id": "4ac0a624",
   "metadata": {
    "execution": {
     "iopub.execute_input": "2025-06-20T13:05:20.374009Z",
     "iopub.status.busy": "2025-06-20T13:05:20.373032Z",
     "iopub.status.idle": "2025-06-20T13:05:20.387617Z",
     "shell.execute_reply": "2025-06-20T13:05:20.386512Z"
    },
    "papermill": {
     "duration": 0.026633,
     "end_time": "2025-06-20T13:05:20.389253",
     "exception": false,
     "start_time": "2025-06-20T13:05:20.362620",
     "status": "completed"
    },
    "tags": []
   },
   "outputs": [
    {
     "name": "stdout",
     "output_type": "stream",
     "text": [
      "Id               0\n",
      "GarageType       0\n",
      "Functional       0\n",
      "TotRmsAbvGrd     0\n",
      "KitchenQual      0\n",
      "                ..\n",
      "MasVnrArea       0\n",
      "Exterior2nd      0\n",
      "Exterior1st      0\n",
      "RoofMatl         0\n",
      "SaleCondition    0\n",
      "Length: 74, dtype: int64\n"
     ]
    }
   ],
   "source": [
    "print(data.isna().sum().sort_values(ascending=False))  # Total number of NaN in the entire DataFram \n"
   ]
  },
  {
   "cell_type": "markdown",
   "id": "adb473d5",
   "metadata": {
    "papermill": {
     "duration": 0.009539,
     "end_time": "2025-06-20T13:05:20.410162",
     "exception": false,
     "start_time": "2025-06-20T13:05:20.400623",
     "status": "completed"
    },
    "tags": []
   },
   "source": [
    " # non-numeric columns"
   ]
  },
  {
   "cell_type": "code",
   "execution_count": 18,
   "id": "1b09ee0f",
   "metadata": {
    "execution": {
     "iopub.execute_input": "2025-06-20T13:05:20.430434Z",
     "iopub.status.busy": "2025-06-20T13:05:20.429854Z",
     "iopub.status.idle": "2025-06-20T13:05:20.438680Z",
     "shell.execute_reply": "2025-06-20T13:05:20.437755Z"
    },
    "papermill": {
     "duration": 0.020679,
     "end_time": "2025-06-20T13:05:20.440177",
     "exception": false,
     "start_time": "2025-06-20T13:05:20.419498",
     "status": "completed"
    },
    "tags": []
   },
   "outputs": [],
   "source": [
    "data_not_numeric = data.select_dtypes(exclude=['number']) # non-numeric columns"
   ]
  },
  {
   "cell_type": "code",
   "execution_count": 19,
   "id": "e32f0b24",
   "metadata": {
    "execution": {
     "iopub.execute_input": "2025-06-20T13:05:20.461229Z",
     "iopub.status.busy": "2025-06-20T13:05:20.460915Z",
     "iopub.status.idle": "2025-06-20T13:05:20.466811Z",
     "shell.execute_reply": "2025-06-20T13:05:20.465958Z"
    },
    "papermill": {
     "duration": 0.018182,
     "end_time": "2025-06-20T13:05:20.468237",
     "exception": false,
     "start_time": "2025-06-20T13:05:20.450055",
     "status": "completed"
    },
    "tags": []
   },
   "outputs": [
    {
     "data": {
      "text/plain": [
       "Index(['MSZoning', 'Street', 'LotShape', 'LandContour', 'Utilities',\n",
       "       'LotConfig', 'LandSlope', 'Neighborhood', 'Condition1', 'Condition2',\n",
       "       'BldgType', 'HouseStyle', 'RoofStyle', 'RoofMatl', 'Exterior1st',\n",
       "       'Exterior2nd', 'ExterQual', 'ExterCond', 'Foundation', 'BsmtQual',\n",
       "       'BsmtCond', 'BsmtExposure', 'BsmtFinType1', 'BsmtFinType2', 'Heating',\n",
       "       'HeatingQC', 'CentralAir', 'Electrical', 'KitchenQual', 'Functional',\n",
       "       'GarageType', 'GarageFinish', 'GarageQual', 'GarageCond', 'PavedDrive',\n",
       "       'SaleType', 'SaleCondition'],\n",
       "      dtype='object')"
      ]
     },
     "execution_count": 19,
     "metadata": {},
     "output_type": "execute_result"
    }
   ],
   "source": [
    "data_not_numeric.columns"
   ]
  },
  {
   "cell_type": "code",
   "execution_count": 20,
   "id": "28a88d60",
   "metadata": {
    "execution": {
     "iopub.execute_input": "2025-06-20T13:05:20.489683Z",
     "iopub.status.busy": "2025-06-20T13:05:20.489367Z",
     "iopub.status.idle": "2025-06-20T13:05:20.638503Z",
     "shell.execute_reply": "2025-06-20T13:05:20.637607Z"
    },
    "papermill": {
     "duration": 0.161786,
     "end_time": "2025-06-20T13:05:20.639938",
     "exception": false,
     "start_time": "2025-06-20T13:05:20.478152",
     "status": "completed"
    },
    "tags": []
   },
   "outputs": [
    {
     "data": {
      "text/html": [
       "<div>\n",
       "<style scoped>\n",
       "    .dataframe tbody tr th:only-of-type {\n",
       "        vertical-align: middle;\n",
       "    }\n",
       "\n",
       "    .dataframe tbody tr th {\n",
       "        vertical-align: top;\n",
       "    }\n",
       "\n",
       "    .dataframe thead th {\n",
       "        text-align: right;\n",
       "    }\n",
       "</style>\n",
       "<table border=\"1\" class=\"dataframe\">\n",
       "  <thead>\n",
       "    <tr style=\"text-align: right;\">\n",
       "      <th></th>\n",
       "      <th>MSZoning</th>\n",
       "      <th>Street</th>\n",
       "      <th>LotShape</th>\n",
       "      <th>LandContour</th>\n",
       "      <th>Utilities</th>\n",
       "      <th>LotConfig</th>\n",
       "      <th>LandSlope</th>\n",
       "      <th>Neighborhood</th>\n",
       "      <th>Condition1</th>\n",
       "      <th>Condition2</th>\n",
       "      <th>...</th>\n",
       "      <th>Electrical</th>\n",
       "      <th>KitchenQual</th>\n",
       "      <th>Functional</th>\n",
       "      <th>GarageType</th>\n",
       "      <th>GarageFinish</th>\n",
       "      <th>GarageQual</th>\n",
       "      <th>GarageCond</th>\n",
       "      <th>PavedDrive</th>\n",
       "      <th>SaleType</th>\n",
       "      <th>SaleCondition</th>\n",
       "    </tr>\n",
       "  </thead>\n",
       "  <tbody>\n",
       "    <tr>\n",
       "      <th>count</th>\n",
       "      <td>2919</td>\n",
       "      <td>2919</td>\n",
       "      <td>2919</td>\n",
       "      <td>2919</td>\n",
       "      <td>2919</td>\n",
       "      <td>2919</td>\n",
       "      <td>2919</td>\n",
       "      <td>2919</td>\n",
       "      <td>2919</td>\n",
       "      <td>2919</td>\n",
       "      <td>...</td>\n",
       "      <td>2919</td>\n",
       "      <td>2919</td>\n",
       "      <td>2919</td>\n",
       "      <td>2919</td>\n",
       "      <td>2919</td>\n",
       "      <td>2919</td>\n",
       "      <td>2919</td>\n",
       "      <td>2919</td>\n",
       "      <td>2919</td>\n",
       "      <td>2919</td>\n",
       "    </tr>\n",
       "    <tr>\n",
       "      <th>unique</th>\n",
       "      <td>5</td>\n",
       "      <td>2</td>\n",
       "      <td>4</td>\n",
       "      <td>4</td>\n",
       "      <td>2</td>\n",
       "      <td>5</td>\n",
       "      <td>3</td>\n",
       "      <td>25</td>\n",
       "      <td>9</td>\n",
       "      <td>8</td>\n",
       "      <td>...</td>\n",
       "      <td>5</td>\n",
       "      <td>4</td>\n",
       "      <td>7</td>\n",
       "      <td>6</td>\n",
       "      <td>3</td>\n",
       "      <td>5</td>\n",
       "      <td>5</td>\n",
       "      <td>3</td>\n",
       "      <td>9</td>\n",
       "      <td>6</td>\n",
       "    </tr>\n",
       "    <tr>\n",
       "      <th>top</th>\n",
       "      <td>RL</td>\n",
       "      <td>Pave</td>\n",
       "      <td>Reg</td>\n",
       "      <td>Lvl</td>\n",
       "      <td>AllPub</td>\n",
       "      <td>Inside</td>\n",
       "      <td>Gtl</td>\n",
       "      <td>NAmes</td>\n",
       "      <td>Norm</td>\n",
       "      <td>Norm</td>\n",
       "      <td>...</td>\n",
       "      <td>SBrkr</td>\n",
       "      <td>TA</td>\n",
       "      <td>Typ</td>\n",
       "      <td>Attchd</td>\n",
       "      <td>Unf</td>\n",
       "      <td>TA</td>\n",
       "      <td>TA</td>\n",
       "      <td>Y</td>\n",
       "      <td>WD</td>\n",
       "      <td>Normal</td>\n",
       "    </tr>\n",
       "    <tr>\n",
       "      <th>freq</th>\n",
       "      <td>2269</td>\n",
       "      <td>2907</td>\n",
       "      <td>1859</td>\n",
       "      <td>2622</td>\n",
       "      <td>2918</td>\n",
       "      <td>2133</td>\n",
       "      <td>2778</td>\n",
       "      <td>443</td>\n",
       "      <td>2511</td>\n",
       "      <td>2889</td>\n",
       "      <td>...</td>\n",
       "      <td>2672</td>\n",
       "      <td>1493</td>\n",
       "      <td>2719</td>\n",
       "      <td>1880</td>\n",
       "      <td>1389</td>\n",
       "      <td>2763</td>\n",
       "      <td>2813</td>\n",
       "      <td>2641</td>\n",
       "      <td>2526</td>\n",
       "      <td>2402</td>\n",
       "    </tr>\n",
       "  </tbody>\n",
       "</table>\n",
       "<p>4 rows × 37 columns</p>\n",
       "</div>"
      ],
      "text/plain": [
       "       MSZoning Street LotShape LandContour Utilities LotConfig LandSlope  \\\n",
       "count      2919   2919     2919        2919      2919      2919      2919   \n",
       "unique        5      2        4           4         2         5         3   \n",
       "top          RL   Pave      Reg         Lvl    AllPub    Inside       Gtl   \n",
       "freq       2269   2907     1859        2622      2918      2133      2778   \n",
       "\n",
       "       Neighborhood Condition1 Condition2  ... Electrical KitchenQual  \\\n",
       "count          2919       2919       2919  ...       2919        2919   \n",
       "unique           25          9          8  ...          5           4   \n",
       "top           NAmes       Norm       Norm  ...      SBrkr          TA   \n",
       "freq            443       2511       2889  ...       2672        1493   \n",
       "\n",
       "       Functional GarageType GarageFinish GarageQual GarageCond PavedDrive  \\\n",
       "count        2919       2919         2919       2919       2919       2919   \n",
       "unique          7          6            3          5          5          3   \n",
       "top           Typ     Attchd          Unf         TA         TA          Y   \n",
       "freq         2719       1880         1389       2763       2813       2641   \n",
       "\n",
       "       SaleType SaleCondition  \n",
       "count      2919          2919  \n",
       "unique        9             6  \n",
       "top          WD        Normal  \n",
       "freq       2526          2402  \n",
       "\n",
       "[4 rows x 37 columns]"
      ]
     },
     "execution_count": 20,
     "metadata": {},
     "output_type": "execute_result"
    }
   ],
   "source": [
    "data_not_numeric.describe()"
   ]
  },
  {
   "cell_type": "code",
   "execution_count": 21,
   "id": "39a30d43",
   "metadata": {
    "execution": {
     "iopub.execute_input": "2025-06-20T13:05:20.661056Z",
     "iopub.status.busy": "2025-06-20T13:05:20.660662Z",
     "iopub.status.idle": "2025-06-20T13:05:20.677923Z",
     "shell.execute_reply": "2025-06-20T13:05:20.676973Z"
    },
    "papermill": {
     "duration": 0.029547,
     "end_time": "2025-06-20T13:05:20.679368",
     "exception": false,
     "start_time": "2025-06-20T13:05:20.649821",
     "status": "completed"
    },
    "tags": []
   },
   "outputs": [
    {
     "data": {
      "text/plain": [
       "Street            2\n",
       "Utilities         2\n",
       "CentralAir        2\n",
       "GarageFinish      3\n",
       "LandSlope         3\n",
       "PavedDrive        3\n",
       "LotShape          4\n",
       "LandContour       4\n",
       "BsmtCond          4\n",
       "BsmtQual          4\n",
       "BsmtExposure      4\n",
       "ExterQual         4\n",
       "KitchenQual       4\n",
       "HeatingQC         5\n",
       "ExterCond         5\n",
       "MSZoning          5\n",
       "BldgType          5\n",
       "GarageQual        5\n",
       "GarageCond        5\n",
       "LotConfig         5\n",
       "Electrical        5\n",
       "GarageType        6\n",
       "Heating           6\n",
       "Foundation        6\n",
       "BsmtFinType1      6\n",
       "RoofStyle         6\n",
       "BsmtFinType2      6\n",
       "SaleCondition     6\n",
       "Functional        7\n",
       "RoofMatl          8\n",
       "HouseStyle        8\n",
       "Condition2        8\n",
       "SaleType          9\n",
       "Condition1        9\n",
       "Exterior1st      15\n",
       "Exterior2nd      16\n",
       "Neighborhood     25\n",
       "dtype: int64"
      ]
     },
     "execution_count": 21,
     "metadata": {},
     "output_type": "execute_result"
    }
   ],
   "source": [
    "data_not_numeric.nunique().sort_values()"
   ]
  },
  {
   "cell_type": "markdown",
   "id": "b39a4c9b",
   "metadata": {
    "papermill": {
     "duration": 0.009637,
     "end_time": "2025-06-20T13:05:20.699086",
     "exception": false,
     "start_time": "2025-06-20T13:05:20.689449",
     "status": "completed"
    },
    "tags": []
   },
   "source": [
    "Exterior1st 15, Exterior2nd 16, Neighborhood 25 have too many unique values. You need to figure out if they need to be encoded. \n",
    "\n",
    "There are many also non-numeric columns , let's try to determine whether all of them are really important in the training data"
   ]
  },
  {
   "cell_type": "code",
   "execution_count": 22,
   "id": "de09f35e",
   "metadata": {
    "execution": {
     "iopub.execute_input": "2025-06-20T13:05:20.720151Z",
     "iopub.status.busy": "2025-06-20T13:05:20.719843Z",
     "iopub.status.idle": "2025-06-20T13:05:20.741979Z",
     "shell.execute_reply": "2025-06-20T13:05:20.741021Z"
    },
    "papermill": {
     "duration": 0.034621,
     "end_time": "2025-06-20T13:05:20.743527",
     "exception": false,
     "start_time": "2025-06-20T13:05:20.708906",
     "status": "completed"
    },
    "tags": []
   },
   "outputs": [
    {
     "data": {
      "text/html": [
       "<div>\n",
       "<style scoped>\n",
       "    .dataframe tbody tr th:only-of-type {\n",
       "        vertical-align: middle;\n",
       "    }\n",
       "\n",
       "    .dataframe tbody tr th {\n",
       "        vertical-align: top;\n",
       "    }\n",
       "\n",
       "    .dataframe thead th {\n",
       "        text-align: right;\n",
       "    }\n",
       "</style>\n",
       "<table border=\"1\" class=\"dataframe\">\n",
       "  <thead>\n",
       "    <tr style=\"text-align: right;\">\n",
       "      <th></th>\n",
       "      <th>Id</th>\n",
       "      <th>MSSubClass</th>\n",
       "      <th>MSZoning</th>\n",
       "      <th>LotFrontage</th>\n",
       "      <th>LotArea</th>\n",
       "      <th>Street</th>\n",
       "      <th>LotShape</th>\n",
       "      <th>LandContour</th>\n",
       "      <th>Utilities</th>\n",
       "      <th>LotConfig</th>\n",
       "      <th>...</th>\n",
       "      <th>EnclosedPorch</th>\n",
       "      <th>3SsnPorch</th>\n",
       "      <th>ScreenPorch</th>\n",
       "      <th>PoolArea</th>\n",
       "      <th>MiscVal</th>\n",
       "      <th>MoSold</th>\n",
       "      <th>YrSold</th>\n",
       "      <th>SaleType</th>\n",
       "      <th>SaleCondition</th>\n",
       "      <th>SalePrice</th>\n",
       "    </tr>\n",
       "  </thead>\n",
       "  <tbody>\n",
       "    <tr>\n",
       "      <th>0</th>\n",
       "      <td>1</td>\n",
       "      <td>60</td>\n",
       "      <td>RL</td>\n",
       "      <td>65.0</td>\n",
       "      <td>8450</td>\n",
       "      <td>Pave</td>\n",
       "      <td>Reg</td>\n",
       "      <td>Lvl</td>\n",
       "      <td>AllPub</td>\n",
       "      <td>Inside</td>\n",
       "      <td>...</td>\n",
       "      <td>0</td>\n",
       "      <td>0</td>\n",
       "      <td>0</td>\n",
       "      <td>0</td>\n",
       "      <td>0</td>\n",
       "      <td>2</td>\n",
       "      <td>2008</td>\n",
       "      <td>WD</td>\n",
       "      <td>Normal</td>\n",
       "      <td>208500</td>\n",
       "    </tr>\n",
       "    <tr>\n",
       "      <th>1</th>\n",
       "      <td>2</td>\n",
       "      <td>20</td>\n",
       "      <td>RL</td>\n",
       "      <td>80.0</td>\n",
       "      <td>9600</td>\n",
       "      <td>Pave</td>\n",
       "      <td>Reg</td>\n",
       "      <td>Lvl</td>\n",
       "      <td>AllPub</td>\n",
       "      <td>FR2</td>\n",
       "      <td>...</td>\n",
       "      <td>0</td>\n",
       "      <td>0</td>\n",
       "      <td>0</td>\n",
       "      <td>0</td>\n",
       "      <td>0</td>\n",
       "      <td>5</td>\n",
       "      <td>2007</td>\n",
       "      <td>WD</td>\n",
       "      <td>Normal</td>\n",
       "      <td>181500</td>\n",
       "    </tr>\n",
       "    <tr>\n",
       "      <th>2</th>\n",
       "      <td>3</td>\n",
       "      <td>60</td>\n",
       "      <td>RL</td>\n",
       "      <td>68.0</td>\n",
       "      <td>11250</td>\n",
       "      <td>Pave</td>\n",
       "      <td>IR1</td>\n",
       "      <td>Lvl</td>\n",
       "      <td>AllPub</td>\n",
       "      <td>Inside</td>\n",
       "      <td>...</td>\n",
       "      <td>0</td>\n",
       "      <td>0</td>\n",
       "      <td>0</td>\n",
       "      <td>0</td>\n",
       "      <td>0</td>\n",
       "      <td>9</td>\n",
       "      <td>2008</td>\n",
       "      <td>WD</td>\n",
       "      <td>Normal</td>\n",
       "      <td>223500</td>\n",
       "    </tr>\n",
       "    <tr>\n",
       "      <th>3</th>\n",
       "      <td>4</td>\n",
       "      <td>70</td>\n",
       "      <td>RL</td>\n",
       "      <td>60.0</td>\n",
       "      <td>9550</td>\n",
       "      <td>Pave</td>\n",
       "      <td>IR1</td>\n",
       "      <td>Lvl</td>\n",
       "      <td>AllPub</td>\n",
       "      <td>Corner</td>\n",
       "      <td>...</td>\n",
       "      <td>272</td>\n",
       "      <td>0</td>\n",
       "      <td>0</td>\n",
       "      <td>0</td>\n",
       "      <td>0</td>\n",
       "      <td>2</td>\n",
       "      <td>2006</td>\n",
       "      <td>WD</td>\n",
       "      <td>Abnorml</td>\n",
       "      <td>140000</td>\n",
       "    </tr>\n",
       "    <tr>\n",
       "      <th>4</th>\n",
       "      <td>5</td>\n",
       "      <td>60</td>\n",
       "      <td>RL</td>\n",
       "      <td>84.0</td>\n",
       "      <td>14260</td>\n",
       "      <td>Pave</td>\n",
       "      <td>IR1</td>\n",
       "      <td>Lvl</td>\n",
       "      <td>AllPub</td>\n",
       "      <td>FR2</td>\n",
       "      <td>...</td>\n",
       "      <td>0</td>\n",
       "      <td>0</td>\n",
       "      <td>0</td>\n",
       "      <td>0</td>\n",
       "      <td>0</td>\n",
       "      <td>12</td>\n",
       "      <td>2008</td>\n",
       "      <td>WD</td>\n",
       "      <td>Normal</td>\n",
       "      <td>250000</td>\n",
       "    </tr>\n",
       "  </tbody>\n",
       "</table>\n",
       "<p>5 rows × 75 columns</p>\n",
       "</div>"
      ],
      "text/plain": [
       "   Id  MSSubClass MSZoning  LotFrontage  LotArea Street LotShape LandContour  \\\n",
       "0   1          60       RL         65.0     8450   Pave      Reg         Lvl   \n",
       "1   2          20       RL         80.0     9600   Pave      Reg         Lvl   \n",
       "2   3          60       RL         68.0    11250   Pave      IR1         Lvl   \n",
       "3   4          70       RL         60.0     9550   Pave      IR1         Lvl   \n",
       "4   5          60       RL         84.0    14260   Pave      IR1         Lvl   \n",
       "\n",
       "  Utilities LotConfig  ... EnclosedPorch 3SsnPorch ScreenPorch PoolArea  \\\n",
       "0    AllPub    Inside  ...             0         0           0        0   \n",
       "1    AllPub       FR2  ...             0         0           0        0   \n",
       "2    AllPub    Inside  ...             0         0           0        0   \n",
       "3    AllPub    Corner  ...           272         0           0        0   \n",
       "4    AllPub       FR2  ...             0         0           0        0   \n",
       "\n",
       "  MiscVal MoSold  YrSold  SaleType  SaleCondition  SalePrice  \n",
       "0       0      2    2008        WD         Normal     208500  \n",
       "1       0      5    2007        WD         Normal     181500  \n",
       "2       0      9    2008        WD         Normal     223500  \n",
       "3       0      2    2006        WD        Abnorml     140000  \n",
       "4       0     12    2008        WD         Normal     250000  \n",
       "\n",
       "[5 rows x 75 columns]"
      ]
     },
     "execution_count": 22,
     "metadata": {},
     "output_type": "execute_result"
    }
   ],
   "source": [
    "temp = data.iloc[:df_train.shape[0],:].copy()\n",
    "temp['SalePrice']  = df_train['SalePrice']\n",
    "temp.head()"
   ]
  },
  {
   "cell_type": "code",
   "execution_count": 23,
   "id": "39d8c5c4",
   "metadata": {
    "execution": {
     "iopub.execute_input": "2025-06-20T13:05:20.766113Z",
     "iopub.status.busy": "2025-06-20T13:05:20.765435Z",
     "iopub.status.idle": "2025-06-20T13:05:20.772208Z",
     "shell.execute_reply": "2025-06-20T13:05:20.771261Z"
    },
    "papermill": {
     "duration": 0.019269,
     "end_time": "2025-06-20T13:05:20.773701",
     "exception": false,
     "start_time": "2025-06-20T13:05:20.754432",
     "status": "completed"
    },
    "tags": []
   },
   "outputs": [],
   "source": [
    "def plot_grouped_bar(df, group_col, value_col, aggfunc='mean', palette='viridis', top_n=None, figsize=(10, 6)):\n",
    "    \"\"\"\n",
    "    Visualizes an aggregated numeric column grouped by a categorical column.\n",
    "\n",
    "    Parameters:\n",
    "        df (DataFrame): your input dataset\n",
    "        group_col (str): the column to group by (e.g., 'Neighborhood')\n",
    "        value_col (str): the numeric column to aggregate (e.g., 'SalePrice')\n",
    "        aggfunc (str or callable): aggregation function — e.g. 'mean', 'median', or a custom function\n",
    "        palette (str): color palette for the bars (any seaborn palette name)\n",
    "        top_n (int): optionally, show only the top N groups\n",
    "        figsize (tuple): size of the plot (width, height)\n",
    "    \"\"\"\n",
    "    # Compute the aggregated values by group\n",
    "    grouped = df.groupby(group_col)[value_col].agg(aggfunc).sort_values(ascending=False)\n",
    "    \n",
    "    # Optionally keep only the top N groups\n",
    "    if top_n:\n",
    "        grouped = grouped.head(top_n)\n",
    "\n",
    "    # Set up the plot\n",
    "    plt.figure(figsize=figsize)\n",
    "    sns.barplot(x=grouped.values, y=grouped.index, palette=palette)\n",
    "\n",
    "    # Add titles and labels\n",
    "    plt.title(f\"{aggfunc.title()} {value_col} by {group_col}\")\n",
    "    plt.xlabel(aggfunc.title())\n",
    "    plt.ylabel(group_col)\n",
    "    plt.tight_layout()\n",
    "    plt.show()"
   ]
  },
  {
   "cell_type": "code",
   "execution_count": 24,
   "id": "55d8f334",
   "metadata": {
    "execution": {
     "iopub.execute_input": "2025-06-20T13:05:20.795899Z",
     "iopub.status.busy": "2025-06-20T13:05:20.795556Z",
     "iopub.status.idle": "2025-06-20T13:05:21.314359Z",
     "shell.execute_reply": "2025-06-20T13:05:21.313329Z"
    },
    "papermill": {
     "duration": 0.53208,
     "end_time": "2025-06-20T13:05:21.316246",
     "exception": false,
     "start_time": "2025-06-20T13:05:20.784166",
     "status": "completed"
    },
    "tags": []
   },
   "outputs": [
    {
     "data": {
      "image/png": "[encoded data removed]",
      "text/plain": [
       "<Figure size 1000x600 with 1 Axes>"
      ]
     },
     "metadata": {},
     "output_type": "display_data"
    }
   ],
   "source": [
    "plot_grouped_bar(temp,\"Neighborhood\", 'SalePrice')"
   ]
  },
  {
   "cell_type": "markdown",
   "id": "a478b63a",
   "metadata": {
    "papermill": {
     "duration": 0.010796,
     "end_time": "2025-06-20T13:05:21.338850",
     "exception": false,
     "start_time": "2025-06-20T13:05:21.328054",
     "status": "completed"
    },
    "tags": []
   },
   "source": [
    "we will replace the names of the districts with the elite rating (average price)"
   ]
  },
  {
   "cell_type": "code",
   "execution_count": 25,
   "id": "c3c30b6b",
   "metadata": {
    "execution": {
     "iopub.execute_input": "2025-06-20T13:05:21.362056Z",
     "iopub.status.busy": "2025-06-20T13:05:21.361693Z",
     "iopub.status.idle": "2025-06-20T13:05:21.369351Z",
     "shell.execute_reply": "2025-06-20T13:05:21.368503Z"
    },
    "papermill": {
     "duration": 0.021125,
     "end_time": "2025-06-20T13:05:21.370940",
     "exception": false,
     "start_time": "2025-06-20T13:05:21.349815",
     "status": "completed"
    },
    "tags": []
   },
   "outputs": [],
   "source": [
    "neigh_prices = temp.groupby(\"Neighborhood\")['SalePrice'].mean()\n",
    "data[\"NeighborhoodValue\"] = data[\"Neighborhood\"].map(neigh_prices)"
   ]
  },
  {
   "cell_type": "code",
   "execution_count": 26,
   "id": "c60e13a4",
   "metadata": {
    "execution": {
     "iopub.execute_input": "2025-06-20T13:05:21.394405Z",
     "iopub.status.busy": "2025-06-20T13:05:21.394079Z",
     "iopub.status.idle": "2025-06-20T13:05:21.674212Z",
     "shell.execute_reply": "2025-06-20T13:05:21.673168Z"
    },
    "papermill": {
     "duration": 0.29352,
     "end_time": "2025-06-20T13:05:21.675710",
     "exception": false,
     "start_time": "2025-06-20T13:05:21.382190",
     "status": "completed"
    },
    "tags": []
   },
   "outputs": [
    {
     "data": {
      "image/png": "[encoded data removed]",
      "text/plain": [
       "<Figure size 1000x600 with 1 Axes>"
      ]
     },
     "metadata": {},
     "output_type": "display_data"
    }
   ],
   "source": [
    "plot_grouped_bar(temp,\"Exterior1st\", 'SalePrice')"
   ]
  },
  {
   "cell_type": "code",
   "execution_count": 27,
   "id": "46e7aa88",
   "metadata": {
    "execution": {
     "iopub.execute_input": "2025-06-20T13:05:21.701554Z",
     "iopub.status.busy": "2025-06-20T13:05:21.700765Z",
     "iopub.status.idle": "2025-06-20T13:05:21.983334Z",
     "shell.execute_reply": "2025-06-20T13:05:21.982390Z"
    },
    "papermill": {
     "duration": 0.296946,
     "end_time": "2025-06-20T13:05:21.984812",
     "exception": false,
     "start_time": "2025-06-20T13:05:21.687866",
     "status": "completed"
    },
    "tags": []
   },
   "outputs": [
    {
     "data": {
      "image/png": "[encoded data removed]",
      "text/plain": [
       "<Figure size 1000x600 with 1 Axes>"
      ]
     },
     "metadata": {},
     "output_type": "display_data"
    }
   ],
   "source": [
    "plot_grouped_bar(temp,\"Exterior2nd\", 'SalePrice')\n"
   ]
  },
  {
   "cell_type": "markdown",
   "id": "a4c6b10d",
   "metadata": {
    "papermill": {
     "duration": 0.012402,
     "end_time": "2025-06-20T13:05:22.015619",
     "exception": false,
     "start_time": "2025-06-20T13:05:22.003217",
     "status": "completed"
    },
    "tags": []
   },
   "source": [
    "at first glance, all the features are important, so let's try not to change or code them "
   ]
  },
  {
   "cell_type": "code",
   "execution_count": 28,
   "id": "1d64aa90",
   "metadata": {
    "execution": {
     "iopub.execute_input": "2025-06-20T13:05:22.042314Z",
     "iopub.status.busy": "2025-06-20T13:05:22.041979Z",
     "iopub.status.idle": "2025-06-20T13:05:29.383276Z",
     "shell.execute_reply": "2025-06-20T13:05:29.382300Z"
    },
    "papermill": {
     "duration": 7.35677,
     "end_time": "2025-06-20T13:05:29.385116",
     "exception": false,
     "start_time": "2025-06-20T13:05:22.028346",
     "status": "completed"
    },
    "tags": []
   },
   "outputs": [],
   "source": [
    "import lightgbm as lgb\n",
    "from sklearn.model_selection import train_test_split\n",
    "from sklearn.metrics import mean_squared_error\n",
    "\n",
    "def train_lgb_model(X_train, y_train, X_val, y_val, test_ids=None, log_target=False, return_submission=False):\n",
    "    \"\"\"\n",
    "    Trains LGBM on given train/val datasets. Validation optional.\n",
    "\n",
    "    Parameters:\n",
    "        X_train, y_train: training set\n",
    "        X_val, y_val: validation set (optional)\n",
    "        test_data: test set for predictions (optional)\n",
    "        test_ids: IDs for submission file (optional)\n",
    "        log_target: whether to apply expm1 to predictions\n",
    "        return_submission: whether to return submission DataFrame\n",
    "\n",
    "    Returns:\n",
    "        model, rmse (if validation provided), submission (optional)\n",
    "    \"\"\"\n",
    "     \n",
    "    # Ініціалізація\n",
    "    model = lgb.LGBMRegressor(\n",
    "        n_estimators=1000,\n",
    "        learning_rate=0.05,\n",
    "        num_leaves=31,\n",
    "        subsample=0.8,\n",
    "        colsample_bytree=0.8,\n",
    "        random_state=42\n",
    "      )\n",
    "\n",
    "    # Навчання \n",
    "    model.fit( X_train, y_train, eval_set=[(X_val, y_val)], eval_metric='rmse')\n",
    "\n",
    "    # RMSE на валідації\n",
    "    y_pred = model.predict(X_val)\n",
    "    rmse = np.sqrt(mean_squared_error(y_val, y_pred))\n",
    "    print(f\"Validation RMSE: {rmse:.4f}\")\n",
    "    \n",
    "    if test_ids is not None and return_submission:\n",
    "        test_preds = model.predict(X_val)\n",
    "        print('isnan',np.isnan(test_preds).sum() )    # Кількість NaN\n",
    "        print('isinf', np.isinf(test_preds).sum() )    # Кількість -inf або inf\n",
    "        if log_target:\n",
    "            test_preds = np.expm1(test_preds)\n",
    "        submission = pd.DataFrame({'Id': test_ids, 'SalePrice': test_preds})\n",
    "        return model, rmse, submission\n",
    "    \n",
    "    \n",
    "    return model, rmse"
   ]
  },
  {
   "cell_type": "code",
   "execution_count": 29,
   "id": "aa04eea9",
   "metadata": {
    "execution": {
     "iopub.execute_input": "2025-06-20T13:05:29.413905Z",
     "iopub.status.busy": "2025-06-20T13:05:29.413222Z",
     "iopub.status.idle": "2025-06-20T13:05:29.448383Z",
     "shell.execute_reply": "2025-06-20T13:05:29.447234Z"
    },
    "papermill": {
     "duration": 0.050821,
     "end_time": "2025-06-20T13:05:29.450227",
     "exception": false,
     "start_time": "2025-06-20T13:05:29.399406",
     "status": "completed"
    },
    "tags": []
   },
   "outputs": [],
   "source": [
    "data[data_not_numeric.columns] = data[data_not_numeric.columns].astype('category')\n",
    "#switching to the type 'category'  will allow you to save the entire space of unique values after dividing into training and test sets"
   ]
  },
  {
   "cell_type": "code",
   "execution_count": 30,
   "id": "1d1a8bbd",
   "metadata": {
    "execution": {
     "iopub.execute_input": "2025-06-20T13:05:29.477419Z",
     "iopub.status.busy": "2025-06-20T13:05:29.477097Z",
     "iopub.status.idle": "2025-06-20T13:05:29.501298Z",
     "shell.execute_reply": "2025-06-20T13:05:29.500180Z"
    },
    "papermill": {
     "duration": 0.039941,
     "end_time": "2025-06-20T13:05:29.503203",
     "exception": false,
     "start_time": "2025-06-20T13:05:29.463262",
     "status": "completed"
    },
    "tags": []
   },
   "outputs": [
    {
     "name": "stdout",
     "output_type": "stream",
     "text": [
      "<class 'pandas.core.frame.DataFrame'>\n",
      "Index: 2919 entries, 0 to 1458\n",
      "Data columns (total 75 columns):\n",
      " #   Column             Non-Null Count  Dtype   \n",
      "---  ------             --------------  -----   \n",
      " 0   Id                 2919 non-null   int64   \n",
      " 1   MSSubClass         2919 non-null   int64   \n",
      " 2   MSZoning           2919 non-null   category\n",
      " 3   LotFrontage        2919 non-null   float64 \n",
      " 4   LotArea            2919 non-null   int64   \n",
      " 5   Street             2919 non-null   category\n",
      " 6   LotShape           2919 non-null   category\n",
      " 7   LandContour        2919 non-null   category\n",
      " 8   Utilities          2919 non-null   category\n",
      " 9   LotConfig          2919 non-null   category\n",
      " 10  LandSlope          2919 non-null   category\n",
      " 11  Neighborhood       2919 non-null   category\n",
      " 12  Condition1         2919 non-null   category\n",
      " 13  Condition2         2919 non-null   category\n",
      " 14  BldgType           2919 non-null   category\n",
      " 15  HouseStyle         2919 non-null   category\n",
      " 16  OverallQual        2919 non-null   int64   \n",
      " 17  OverallCond        2919 non-null   int64   \n",
      " 18  YearBuilt          2919 non-null   int64   \n",
      " 19  YearRemodAdd       2919 non-null   int64   \n",
      " 20  RoofStyle          2919 non-null   category\n",
      " 21  RoofMatl           2919 non-null   category\n",
      " 22  Exterior1st        2919 non-null   category\n",
      " 23  Exterior2nd        2919 non-null   category\n",
      " 24  MasVnrArea         2919 non-null   float64 \n",
      " 25  ExterQual          2919 non-null   category\n",
      " 26  ExterCond          2919 non-null   category\n",
      " 27  Foundation         2919 non-null   category\n",
      " 28  BsmtQual           2919 non-null   category\n",
      " 29  BsmtCond           2919 non-null   category\n",
      " 30  BsmtExposure       2919 non-null   category\n",
      " 31  BsmtFinType1       2919 non-null   category\n",
      " 32  BsmtFinSF1         2919 non-null   float64 \n",
      " 33  BsmtFinType2       2919 non-null   category\n",
      " 34  BsmtFinSF2         2919 non-null   float64 \n",
      " 35  BsmtUnfSF          2919 non-null   float64 \n",
      " 36  TotalBsmtSF        2919 non-null   float64 \n",
      " 37  Heating            2919 non-null   category\n",
      " 38  HeatingQC          2919 non-null   category\n",
      " 39  CentralAir         2919 non-null   category\n",
      " 40  Electrical         2919 non-null   category\n",
      " 41  1stFlrSF           2919 non-null   int64   \n",
      " 42  2ndFlrSF           2919 non-null   int64   \n",
      " 43  LowQualFinSF       2919 non-null   int64   \n",
      " 44  GrLivArea          2919 non-null   int64   \n",
      " 45  BsmtFullBath       2919 non-null   float64 \n",
      " 46  BsmtHalfBath       2919 non-null   float64 \n",
      " 47  FullBath           2919 non-null   int64   \n",
      " 48  HalfBath           2919 non-null   int64   \n",
      " 49  BedroomAbvGr       2919 non-null   int64   \n",
      " 50  KitchenAbvGr       2919 non-null   int64   \n",
      " 51  KitchenQual        2919 non-null   category\n",
      " 52  TotRmsAbvGrd       2919 non-null   int64   \n",
      " 53  Functional         2919 non-null   category\n",
      " 54  Fireplaces         2919 non-null   int64   \n",
      " 55  GarageType         2919 non-null   category\n",
      " 56  GarageYrBlt        2919 non-null   float64 \n",
      " 57  GarageFinish       2919 non-null   category\n",
      " 58  GarageCars         2919 non-null   float64 \n",
      " 59  GarageArea         2919 non-null   float64 \n",
      " 60  GarageQual         2919 non-null   category\n",
      " 61  GarageCond         2919 non-null   category\n",
      " 62  PavedDrive         2919 non-null   category\n",
      " 63  WoodDeckSF         2919 non-null   int64   \n",
      " 64  OpenPorchSF        2919 non-null   int64   \n",
      " 65  EnclosedPorch      2919 non-null   int64   \n",
      " 66  3SsnPorch          2919 non-null   int64   \n",
      " 67  ScreenPorch        2919 non-null   int64   \n",
      " 68  PoolArea           2919 non-null   int64   \n",
      " 69  MiscVal            2919 non-null   int64   \n",
      " 70  MoSold             2919 non-null   int64   \n",
      " 71  YrSold             2919 non-null   int64   \n",
      " 72  SaleType           2919 non-null   category\n",
      " 73  SaleCondition      2919 non-null   category\n",
      " 74  NeighborhoodValue  2919 non-null   float64 \n",
      "dtypes: category(37), float64(12), int64(26)\n",
      "memory usage: 1004.4 KB\n"
     ]
    }
   ],
   "source": [
    "data.info()"
   ]
  },
  {
   "cell_type": "code",
   "execution_count": 31,
   "id": "ab1a4ee2",
   "metadata": {
    "execution": {
     "iopub.execute_input": "2025-06-20T13:05:29.531190Z",
     "iopub.status.busy": "2025-06-20T13:05:29.530893Z",
     "iopub.status.idle": "2025-06-20T13:05:29.571438Z",
     "shell.execute_reply": "2025-06-20T13:05:29.570609Z"
    },
    "papermill": {
     "duration": 0.056528,
     "end_time": "2025-06-20T13:05:29.572920",
     "exception": false,
     "start_time": "2025-06-20T13:05:29.516392",
     "status": "completed"
    },
    "tags": []
   },
   "outputs": [
    {
     "data": {
      "text/html": [
       "<div>\n",
       "<style scoped>\n",
       "    .dataframe tbody tr th:only-of-type {\n",
       "        vertical-align: middle;\n",
       "    }\n",
       "\n",
       "    .dataframe tbody tr th {\n",
       "        vertical-align: top;\n",
       "    }\n",
       "\n",
       "    .dataframe thead th {\n",
       "        text-align: right;\n",
       "    }\n",
       "</style>\n",
       "<table border=\"1\" class=\"dataframe\">\n",
       "  <thead>\n",
       "    <tr style=\"text-align: right;\">\n",
       "      <th></th>\n",
       "      <th>MSSubClass</th>\n",
       "      <th>MSZoning</th>\n",
       "      <th>LotFrontage</th>\n",
       "      <th>LotArea</th>\n",
       "      <th>Street</th>\n",
       "      <th>LotShape</th>\n",
       "      <th>LandContour</th>\n",
       "      <th>Utilities</th>\n",
       "      <th>LotConfig</th>\n",
       "      <th>LandSlope</th>\n",
       "      <th>...</th>\n",
       "      <th>EnclosedPorch</th>\n",
       "      <th>3SsnPorch</th>\n",
       "      <th>ScreenPorch</th>\n",
       "      <th>PoolArea</th>\n",
       "      <th>MiscVal</th>\n",
       "      <th>MoSold</th>\n",
       "      <th>YrSold</th>\n",
       "      <th>SaleType</th>\n",
       "      <th>SaleCondition</th>\n",
       "      <th>NeighborhoodValue</th>\n",
       "    </tr>\n",
       "  </thead>\n",
       "  <tbody>\n",
       "    <tr>\n",
       "      <th>0</th>\n",
       "      <td>60</td>\n",
       "      <td>RL</td>\n",
       "      <td>65.0</td>\n",
       "      <td>8450</td>\n",
       "      <td>Pave</td>\n",
       "      <td>Reg</td>\n",
       "      <td>Lvl</td>\n",
       "      <td>AllPub</td>\n",
       "      <td>Inside</td>\n",
       "      <td>Gtl</td>\n",
       "      <td>...</td>\n",
       "      <td>0</td>\n",
       "      <td>0</td>\n",
       "      <td>0</td>\n",
       "      <td>0</td>\n",
       "      <td>0</td>\n",
       "      <td>2</td>\n",
       "      <td>2008</td>\n",
       "      <td>WD</td>\n",
       "      <td>Normal</td>\n",
       "      <td>197965.773333</td>\n",
       "    </tr>\n",
       "    <tr>\n",
       "      <th>1</th>\n",
       "      <td>20</td>\n",
       "      <td>RL</td>\n",
       "      <td>80.0</td>\n",
       "      <td>9600</td>\n",
       "      <td>Pave</td>\n",
       "      <td>Reg</td>\n",
       "      <td>Lvl</td>\n",
       "      <td>AllPub</td>\n",
       "      <td>FR2</td>\n",
       "      <td>Gtl</td>\n",
       "      <td>...</td>\n",
       "      <td>0</td>\n",
       "      <td>0</td>\n",
       "      <td>0</td>\n",
       "      <td>0</td>\n",
       "      <td>0</td>\n",
       "      <td>5</td>\n",
       "      <td>2007</td>\n",
       "      <td>WD</td>\n",
       "      <td>Normal</td>\n",
       "      <td>238772.727273</td>\n",
       "    </tr>\n",
       "    <tr>\n",
       "      <th>2</th>\n",
       "      <td>60</td>\n",
       "      <td>RL</td>\n",
       "      <td>68.0</td>\n",
       "      <td>11250</td>\n",
       "      <td>Pave</td>\n",
       "      <td>IR1</td>\n",
       "      <td>Lvl</td>\n",
       "      <td>AllPub</td>\n",
       "      <td>Inside</td>\n",
       "      <td>Gtl</td>\n",
       "      <td>...</td>\n",
       "      <td>0</td>\n",
       "      <td>0</td>\n",
       "      <td>0</td>\n",
       "      <td>0</td>\n",
       "      <td>0</td>\n",
       "      <td>9</td>\n",
       "      <td>2008</td>\n",
       "      <td>WD</td>\n",
       "      <td>Normal</td>\n",
       "      <td>197965.773333</td>\n",
       "    </tr>\n",
       "    <tr>\n",
       "      <th>3</th>\n",
       "      <td>70</td>\n",
       "      <td>RL</td>\n",
       "      <td>60.0</td>\n",
       "      <td>9550</td>\n",
       "      <td>Pave</td>\n",
       "      <td>IR1</td>\n",
       "      <td>Lvl</td>\n",
       "      <td>AllPub</td>\n",
       "      <td>Corner</td>\n",
       "      <td>Gtl</td>\n",
       "      <td>...</td>\n",
       "      <td>272</td>\n",
       "      <td>0</td>\n",
       "      <td>0</td>\n",
       "      <td>0</td>\n",
       "      <td>0</td>\n",
       "      <td>2</td>\n",
       "      <td>2006</td>\n",
       "      <td>WD</td>\n",
       "      <td>Abnorml</td>\n",
       "      <td>210624.725490</td>\n",
       "    </tr>\n",
       "    <tr>\n",
       "      <th>4</th>\n",
       "      <td>60</td>\n",
       "      <td>RL</td>\n",
       "      <td>84.0</td>\n",
       "      <td>14260</td>\n",
       "      <td>Pave</td>\n",
       "      <td>IR1</td>\n",
       "      <td>Lvl</td>\n",
       "      <td>AllPub</td>\n",
       "      <td>FR2</td>\n",
       "      <td>Gtl</td>\n",
       "      <td>...</td>\n",
       "      <td>0</td>\n",
       "      <td>0</td>\n",
       "      <td>0</td>\n",
       "      <td>0</td>\n",
       "      <td>0</td>\n",
       "      <td>12</td>\n",
       "      <td>2008</td>\n",
       "      <td>WD</td>\n",
       "      <td>Normal</td>\n",
       "      <td>335295.317073</td>\n",
       "    </tr>\n",
       "  </tbody>\n",
       "</table>\n",
       "<p>5 rows × 74 columns</p>\n",
       "</div>"
      ],
      "text/plain": [
       "   MSSubClass MSZoning  LotFrontage  LotArea Street LotShape LandContour  \\\n",
       "0          60       RL         65.0     8450   Pave      Reg         Lvl   \n",
       "1          20       RL         80.0     9600   Pave      Reg         Lvl   \n",
       "2          60       RL         68.0    11250   Pave      IR1         Lvl   \n",
       "3          70       RL         60.0     9550   Pave      IR1         Lvl   \n",
       "4          60       RL         84.0    14260   Pave      IR1         Lvl   \n",
       "\n",
       "  Utilities LotConfig LandSlope  ... EnclosedPorch 3SsnPorch ScreenPorch  \\\n",
       "0    AllPub    Inside       Gtl  ...             0         0           0   \n",
       "1    AllPub       FR2       Gtl  ...             0         0           0   \n",
       "2    AllPub    Inside       Gtl  ...             0         0           0   \n",
       "3    AllPub    Corner       Gtl  ...           272         0           0   \n",
       "4    AllPub       FR2       Gtl  ...             0         0           0   \n",
       "\n",
       "  PoolArea MiscVal  MoSold  YrSold  SaleType  SaleCondition NeighborhoodValue  \n",
       "0        0       0       2    2008        WD         Normal     197965.773333  \n",
       "1        0       0       5    2007        WD         Normal     238772.727273  \n",
       "2        0       0       9    2008        WD         Normal     197965.773333  \n",
       "3        0       0       2    2006        WD        Abnorml     210624.725490  \n",
       "4        0       0      12    2008        WD         Normal     335295.317073  \n",
       "\n",
       "[5 rows x 74 columns]"
      ]
     },
     "metadata": {},
     "output_type": "display_data"
    },
    {
     "data": {
      "text/html": [
       "<div>\n",
       "<style scoped>\n",
       "    .dataframe tbody tr th:only-of-type {\n",
       "        vertical-align: middle;\n",
       "    }\n",
       "\n",
       "    .dataframe tbody tr th {\n",
       "        vertical-align: top;\n",
       "    }\n",
       "\n",
       "    .dataframe thead th {\n",
       "        text-align: right;\n",
       "    }\n",
       "</style>\n",
       "<table border=\"1\" class=\"dataframe\">\n",
       "  <thead>\n",
       "    <tr style=\"text-align: right;\">\n",
       "      <th></th>\n",
       "      <th>MSSubClass</th>\n",
       "      <th>MSZoning</th>\n",
       "      <th>LotFrontage</th>\n",
       "      <th>LotArea</th>\n",
       "      <th>Street</th>\n",
       "      <th>LotShape</th>\n",
       "      <th>LandContour</th>\n",
       "      <th>Utilities</th>\n",
       "      <th>LotConfig</th>\n",
       "      <th>LandSlope</th>\n",
       "      <th>...</th>\n",
       "      <th>EnclosedPorch</th>\n",
       "      <th>3SsnPorch</th>\n",
       "      <th>ScreenPorch</th>\n",
       "      <th>PoolArea</th>\n",
       "      <th>MiscVal</th>\n",
       "      <th>MoSold</th>\n",
       "      <th>YrSold</th>\n",
       "      <th>SaleType</th>\n",
       "      <th>SaleCondition</th>\n",
       "      <th>NeighborhoodValue</th>\n",
       "    </tr>\n",
       "  </thead>\n",
       "  <tbody>\n",
       "    <tr>\n",
       "      <th>0</th>\n",
       "      <td>20</td>\n",
       "      <td>RH</td>\n",
       "      <td>80.0</td>\n",
       "      <td>11622</td>\n",
       "      <td>Pave</td>\n",
       "      <td>Reg</td>\n",
       "      <td>Lvl</td>\n",
       "      <td>AllPub</td>\n",
       "      <td>Inside</td>\n",
       "      <td>Gtl</td>\n",
       "      <td>...</td>\n",
       "      <td>0</td>\n",
       "      <td>0</td>\n",
       "      <td>120</td>\n",
       "      <td>0</td>\n",
       "      <td>0</td>\n",
       "      <td>6</td>\n",
       "      <td>2010</td>\n",
       "      <td>WD</td>\n",
       "      <td>Normal</td>\n",
       "      <td>145847.080000</td>\n",
       "    </tr>\n",
       "    <tr>\n",
       "      <th>1</th>\n",
       "      <td>20</td>\n",
       "      <td>RL</td>\n",
       "      <td>81.0</td>\n",
       "      <td>14267</td>\n",
       "      <td>Pave</td>\n",
       "      <td>IR1</td>\n",
       "      <td>Lvl</td>\n",
       "      <td>AllPub</td>\n",
       "      <td>Corner</td>\n",
       "      <td>Gtl</td>\n",
       "      <td>...</td>\n",
       "      <td>0</td>\n",
       "      <td>0</td>\n",
       "      <td>0</td>\n",
       "      <td>0</td>\n",
       "      <td>12500</td>\n",
       "      <td>6</td>\n",
       "      <td>2010</td>\n",
       "      <td>WD</td>\n",
       "      <td>Normal</td>\n",
       "      <td>145847.080000</td>\n",
       "    </tr>\n",
       "    <tr>\n",
       "      <th>2</th>\n",
       "      <td>60</td>\n",
       "      <td>RL</td>\n",
       "      <td>74.0</td>\n",
       "      <td>13830</td>\n",
       "      <td>Pave</td>\n",
       "      <td>IR1</td>\n",
       "      <td>Lvl</td>\n",
       "      <td>AllPub</td>\n",
       "      <td>Inside</td>\n",
       "      <td>Gtl</td>\n",
       "      <td>...</td>\n",
       "      <td>0</td>\n",
       "      <td>0</td>\n",
       "      <td>0</td>\n",
       "      <td>0</td>\n",
       "      <td>0</td>\n",
       "      <td>3</td>\n",
       "      <td>2010</td>\n",
       "      <td>WD</td>\n",
       "      <td>Normal</td>\n",
       "      <td>192854.506329</td>\n",
       "    </tr>\n",
       "    <tr>\n",
       "      <th>3</th>\n",
       "      <td>60</td>\n",
       "      <td>RL</td>\n",
       "      <td>78.0</td>\n",
       "      <td>9978</td>\n",
       "      <td>Pave</td>\n",
       "      <td>IR1</td>\n",
       "      <td>Lvl</td>\n",
       "      <td>AllPub</td>\n",
       "      <td>Inside</td>\n",
       "      <td>Gtl</td>\n",
       "      <td>...</td>\n",
       "      <td>0</td>\n",
       "      <td>0</td>\n",
       "      <td>0</td>\n",
       "      <td>0</td>\n",
       "      <td>0</td>\n",
       "      <td>6</td>\n",
       "      <td>2010</td>\n",
       "      <td>WD</td>\n",
       "      <td>Normal</td>\n",
       "      <td>192854.506329</td>\n",
       "    </tr>\n",
       "    <tr>\n",
       "      <th>4</th>\n",
       "      <td>120</td>\n",
       "      <td>RL</td>\n",
       "      <td>43.0</td>\n",
       "      <td>5005</td>\n",
       "      <td>Pave</td>\n",
       "      <td>IR1</td>\n",
       "      <td>HLS</td>\n",
       "      <td>AllPub</td>\n",
       "      <td>Inside</td>\n",
       "      <td>Gtl</td>\n",
       "      <td>...</td>\n",
       "      <td>0</td>\n",
       "      <td>0</td>\n",
       "      <td>144</td>\n",
       "      <td>0</td>\n",
       "      <td>0</td>\n",
       "      <td>1</td>\n",
       "      <td>2010</td>\n",
       "      <td>WD</td>\n",
       "      <td>Normal</td>\n",
       "      <td>310499.000000</td>\n",
       "    </tr>\n",
       "  </tbody>\n",
       "</table>\n",
       "<p>5 rows × 74 columns</p>\n",
       "</div>"
      ],
      "text/plain": [
       "   MSSubClass MSZoning  LotFrontage  LotArea Street LotShape LandContour  \\\n",
       "0          20       RH         80.0    11622   Pave      Reg         Lvl   \n",
       "1          20       RL         81.0    14267   Pave      IR1         Lvl   \n",
       "2          60       RL         74.0    13830   Pave      IR1         Lvl   \n",
       "3          60       RL         78.0     9978   Pave      IR1         Lvl   \n",
       "4         120       RL         43.0     5005   Pave      IR1         HLS   \n",
       "\n",
       "  Utilities LotConfig LandSlope  ... EnclosedPorch 3SsnPorch ScreenPorch  \\\n",
       "0    AllPub    Inside       Gtl  ...             0         0         120   \n",
       "1    AllPub    Corner       Gtl  ...             0         0           0   \n",
       "2    AllPub    Inside       Gtl  ...             0         0           0   \n",
       "3    AllPub    Inside       Gtl  ...             0         0           0   \n",
       "4    AllPub    Inside       Gtl  ...             0         0         144   \n",
       "\n",
       "  PoolArea MiscVal  MoSold  YrSold  SaleType  SaleCondition NeighborhoodValue  \n",
       "0        0       0       6    2010        WD         Normal     145847.080000  \n",
       "1        0   12500       6    2010        WD         Normal     145847.080000  \n",
       "2        0       0       3    2010        WD         Normal     192854.506329  \n",
       "3        0       0       6    2010        WD         Normal     192854.506329  \n",
       "4        0       0       1    2010        WD         Normal     310499.000000  \n",
       "\n",
       "[5 rows x 74 columns]"
      ]
     },
     "metadata": {},
     "output_type": "display_data"
    }
   ],
   "source": [
    "X_train = data.iloc[:df_train.shape[0], 1:]\n",
    "X_test = data.iloc[df_train.shape[0]:, 1:]\n",
    "display(X_train.head())\n",
    "display(X_test.head())"
   ]
  },
  {
   "cell_type": "code",
   "execution_count": 32,
   "id": "cbd27783",
   "metadata": {
    "execution": {
     "iopub.execute_input": "2025-06-20T13:05:29.601480Z",
     "iopub.status.busy": "2025-06-20T13:05:29.601195Z",
     "iopub.status.idle": "2025-06-20T13:05:29.668995Z",
     "shell.execute_reply": "2025-06-20T13:05:29.668036Z"
    },
    "papermill": {
     "duration": 0.083904,
     "end_time": "2025-06-20T13:05:29.670481",
     "exception": false,
     "start_time": "2025-06-20T13:05:29.586577",
     "status": "completed"
    },
    "tags": []
   },
   "outputs": [
    {
     "data": {
      "text/html": [
       "<div>\n",
       "<style scoped>\n",
       "    .dataframe tbody tr th:only-of-type {\n",
       "        vertical-align: middle;\n",
       "    }\n",
       "\n",
       "    .dataframe tbody tr th {\n",
       "        vertical-align: top;\n",
       "    }\n",
       "\n",
       "    .dataframe thead th {\n",
       "        text-align: right;\n",
       "    }\n",
       "</style>\n",
       "<table border=\"1\" class=\"dataframe\">\n",
       "  <thead>\n",
       "    <tr style=\"text-align: right;\">\n",
       "      <th></th>\n",
       "      <th>MSSubClass</th>\n",
       "      <th>LotFrontage</th>\n",
       "      <th>LotArea</th>\n",
       "      <th>OverallQual</th>\n",
       "      <th>OverallCond</th>\n",
       "      <th>YearBuilt</th>\n",
       "      <th>YearRemodAdd</th>\n",
       "      <th>MasVnrArea</th>\n",
       "      <th>BsmtFinSF1</th>\n",
       "      <th>BsmtFinSF2</th>\n",
       "      <th>...</th>\n",
       "      <th>WoodDeckSF</th>\n",
       "      <th>OpenPorchSF</th>\n",
       "      <th>EnclosedPorch</th>\n",
       "      <th>3SsnPorch</th>\n",
       "      <th>ScreenPorch</th>\n",
       "      <th>PoolArea</th>\n",
       "      <th>MiscVal</th>\n",
       "      <th>MoSold</th>\n",
       "      <th>YrSold</th>\n",
       "      <th>NeighborhoodValue</th>\n",
       "    </tr>\n",
       "  </thead>\n",
       "  <tbody>\n",
       "    <tr>\n",
       "      <th>count</th>\n",
       "      <td>1460.000000</td>\n",
       "      <td>1460.000000</td>\n",
       "      <td>1460.000000</td>\n",
       "      <td>1460.000000</td>\n",
       "      <td>1460.000000</td>\n",
       "      <td>1460.000000</td>\n",
       "      <td>1460.000000</td>\n",
       "      <td>1460.000000</td>\n",
       "      <td>1460.000000</td>\n",
       "      <td>1460.000000</td>\n",
       "      <td>...</td>\n",
       "      <td>1460.000000</td>\n",
       "      <td>1460.000000</td>\n",
       "      <td>1460.000000</td>\n",
       "      <td>1460.000000</td>\n",
       "      <td>1460.000000</td>\n",
       "      <td>1460.000000</td>\n",
       "      <td>1460.000000</td>\n",
       "      <td>1460.000000</td>\n",
       "      <td>1460.000000</td>\n",
       "      <td>1460.000000</td>\n",
       "    </tr>\n",
       "    <tr>\n",
       "      <th>mean</th>\n",
       "      <td>56.897260</td>\n",
       "      <td>69.686301</td>\n",
       "      <td>10516.828082</td>\n",
       "      <td>6.099315</td>\n",
       "      <td>5.575342</td>\n",
       "      <td>1971.267808</td>\n",
       "      <td>1984.865753</td>\n",
       "      <td>103.117123</td>\n",
       "      <td>443.639726</td>\n",
       "      <td>46.549315</td>\n",
       "      <td>...</td>\n",
       "      <td>94.244521</td>\n",
       "      <td>46.660274</td>\n",
       "      <td>21.954110</td>\n",
       "      <td>3.409589</td>\n",
       "      <td>15.060959</td>\n",
       "      <td>2.758904</td>\n",
       "      <td>43.489041</td>\n",
       "      <td>6.321918</td>\n",
       "      <td>2007.815753</td>\n",
       "      <td>180921.195890</td>\n",
       "    </tr>\n",
       "    <tr>\n",
       "      <th>std</th>\n",
       "      <td>42.300571</td>\n",
       "      <td>22.037950</td>\n",
       "      <td>9981.264932</td>\n",
       "      <td>1.382997</td>\n",
       "      <td>1.112799</td>\n",
       "      <td>30.202904</td>\n",
       "      <td>20.645407</td>\n",
       "      <td>180.731373</td>\n",
       "      <td>456.098091</td>\n",
       "      <td>161.319273</td>\n",
       "      <td>...</td>\n",
       "      <td>125.338794</td>\n",
       "      <td>66.256028</td>\n",
       "      <td>61.119149</td>\n",
       "      <td>29.317331</td>\n",
       "      <td>55.757415</td>\n",
       "      <td>40.177307</td>\n",
       "      <td>496.123024</td>\n",
       "      <td>2.703626</td>\n",
       "      <td>1.328095</td>\n",
       "      <td>58678.654296</td>\n",
       "    </tr>\n",
       "    <tr>\n",
       "      <th>min</th>\n",
       "      <td>20.000000</td>\n",
       "      <td>21.000000</td>\n",
       "      <td>1300.000000</td>\n",
       "      <td>1.000000</td>\n",
       "      <td>1.000000</td>\n",
       "      <td>1872.000000</td>\n",
       "      <td>1950.000000</td>\n",
       "      <td>0.000000</td>\n",
       "      <td>0.000000</td>\n",
       "      <td>0.000000</td>\n",
       "      <td>...</td>\n",
       "      <td>0.000000</td>\n",
       "      <td>0.000000</td>\n",
       "      <td>0.000000</td>\n",
       "      <td>0.000000</td>\n",
       "      <td>0.000000</td>\n",
       "      <td>0.000000</td>\n",
       "      <td>0.000000</td>\n",
       "      <td>1.000000</td>\n",
       "      <td>2006.000000</td>\n",
       "      <td>98576.470588</td>\n",
       "    </tr>\n",
       "    <tr>\n",
       "      <th>25%</th>\n",
       "      <td>20.000000</td>\n",
       "      <td>60.000000</td>\n",
       "      <td>7553.500000</td>\n",
       "      <td>5.000000</td>\n",
       "      <td>5.000000</td>\n",
       "      <td>1954.000000</td>\n",
       "      <td>1967.000000</td>\n",
       "      <td>0.000000</td>\n",
       "      <td>0.000000</td>\n",
       "      <td>0.000000</td>\n",
       "      <td>...</td>\n",
       "      <td>0.000000</td>\n",
       "      <td>0.000000</td>\n",
       "      <td>0.000000</td>\n",
       "      <td>0.000000</td>\n",
       "      <td>0.000000</td>\n",
       "      <td>0.000000</td>\n",
       "      <td>0.000000</td>\n",
       "      <td>5.000000</td>\n",
       "      <td>2007.000000</td>\n",
       "      <td>136793.135135</td>\n",
       "    </tr>\n",
       "    <tr>\n",
       "      <th>50%</th>\n",
       "      <td>50.000000</td>\n",
       "      <td>68.000000</td>\n",
       "      <td>9478.500000</td>\n",
       "      <td>6.000000</td>\n",
       "      <td>5.000000</td>\n",
       "      <td>1973.000000</td>\n",
       "      <td>1994.000000</td>\n",
       "      <td>0.000000</td>\n",
       "      <td>383.500000</td>\n",
       "      <td>0.000000</td>\n",
       "      <td>...</td>\n",
       "      <td>0.000000</td>\n",
       "      <td>25.000000</td>\n",
       "      <td>0.000000</td>\n",
       "      <td>0.000000</td>\n",
       "      <td>0.000000</td>\n",
       "      <td>0.000000</td>\n",
       "      <td>0.000000</td>\n",
       "      <td>6.000000</td>\n",
       "      <td>2008.000000</td>\n",
       "      <td>186555.796610</td>\n",
       "    </tr>\n",
       "    <tr>\n",
       "      <th>75%</th>\n",
       "      <td>70.000000</td>\n",
       "      <td>79.000000</td>\n",
       "      <td>11601.500000</td>\n",
       "      <td>7.000000</td>\n",
       "      <td>6.000000</td>\n",
       "      <td>2000.000000</td>\n",
       "      <td>2004.000000</td>\n",
       "      <td>164.250000</td>\n",
       "      <td>712.250000</td>\n",
       "      <td>0.000000</td>\n",
       "      <td>...</td>\n",
       "      <td>168.000000</td>\n",
       "      <td>68.000000</td>\n",
       "      <td>0.000000</td>\n",
       "      <td>0.000000</td>\n",
       "      <td>0.000000</td>\n",
       "      <td>0.000000</td>\n",
       "      <td>0.000000</td>\n",
       "      <td>8.000000</td>\n",
       "      <td>2009.000000</td>\n",
       "      <td>197965.773333</td>\n",
       "    </tr>\n",
       "    <tr>\n",
       "      <th>max</th>\n",
       "      <td>190.000000</td>\n",
       "      <td>313.000000</td>\n",
       "      <td>215245.000000</td>\n",
       "      <td>10.000000</td>\n",
       "      <td>9.000000</td>\n",
       "      <td>2010.000000</td>\n",
       "      <td>2010.000000</td>\n",
       "      <td>1600.000000</td>\n",
       "      <td>5644.000000</td>\n",
       "      <td>1474.000000</td>\n",
       "      <td>...</td>\n",
       "      <td>857.000000</td>\n",
       "      <td>547.000000</td>\n",
       "      <td>552.000000</td>\n",
       "      <td>508.000000</td>\n",
       "      <td>480.000000</td>\n",
       "      <td>738.000000</td>\n",
       "      <td>15500.000000</td>\n",
       "      <td>12.000000</td>\n",
       "      <td>2010.000000</td>\n",
       "      <td>335295.317073</td>\n",
       "    </tr>\n",
       "  </tbody>\n",
       "</table>\n",
       "<p>8 rows × 37 columns</p>\n",
       "</div>"
      ],
      "text/plain": [
       "        MSSubClass  LotFrontage        LotArea  OverallQual  OverallCond  \\\n",
       "count  1460.000000  1460.000000    1460.000000  1460.000000  1460.000000   \n",
       "mean     56.897260    69.686301   10516.828082     6.099315     5.575342   \n",
       "std      42.300571    22.037950    9981.264932     1.382997     1.112799   \n",
       "min      20.000000    21.000000    1300.000000     1.000000     1.000000   \n",
       "25%      20.000000    60.000000    7553.500000     5.000000     5.000000   \n",
       "50%      50.000000    68.000000    9478.500000     6.000000     5.000000   \n",
       "75%      70.000000    79.000000   11601.500000     7.000000     6.000000   \n",
       "max     190.000000   313.000000  215245.000000    10.000000     9.000000   \n",
       "\n",
       "         YearBuilt  YearRemodAdd   MasVnrArea   BsmtFinSF1   BsmtFinSF2  ...  \\\n",
       "count  1460.000000   1460.000000  1460.000000  1460.000000  1460.000000  ...   \n",
       "mean   1971.267808   1984.865753   103.117123   443.639726    46.549315  ...   \n",
       "std      30.202904     20.645407   180.731373   456.098091   161.319273  ...   \n",
       "min    1872.000000   1950.000000     0.000000     0.000000     0.000000  ...   \n",
       "25%    1954.000000   1967.000000     0.000000     0.000000     0.000000  ...   \n",
       "50%    1973.000000   1994.000000     0.000000   383.500000     0.000000  ...   \n",
       "75%    2000.000000   2004.000000   164.250000   712.250000     0.000000  ...   \n",
       "max    2010.000000   2010.000000  1600.000000  5644.000000  1474.000000  ...   \n",
       "\n",
       "        WoodDeckSF  OpenPorchSF  EnclosedPorch    3SsnPorch  ScreenPorch  \\\n",
       "count  1460.000000  1460.000000    1460.000000  1460.000000  1460.000000   \n",
       "mean     94.244521    46.660274      21.954110     3.409589    15.060959   \n",
       "std     125.338794    66.256028      61.119149    29.317331    55.757415   \n",
       "min       0.000000     0.000000       0.000000     0.000000     0.000000   \n",
       "25%       0.000000     0.000000       0.000000     0.000000     0.000000   \n",
       "50%       0.000000    25.000000       0.000000     0.000000     0.000000   \n",
       "75%     168.000000    68.000000       0.000000     0.000000     0.000000   \n",
       "max     857.000000   547.000000     552.000000   508.000000   480.000000   \n",
       "\n",
       "          PoolArea       MiscVal       MoSold       YrSold  NeighborhoodValue  \n",
       "count  1460.000000   1460.000000  1460.000000  1460.000000        1460.000000  \n",
       "mean      2.758904     43.489041     6.321918  2007.815753      180921.195890  \n",
       "std      40.177307    496.123024     2.703626     1.328095       58678.654296  \n",
       "min       0.000000      0.000000     1.000000  2006.000000       98576.470588  \n",
       "25%       0.000000      0.000000     5.000000  2007.000000      136793.135135  \n",
       "50%       0.000000      0.000000     6.000000  2008.000000      186555.796610  \n",
       "75%       0.000000      0.000000     8.000000  2009.000000      197965.773333  \n",
       "max     738.000000  15500.000000    12.000000  2010.000000      335295.317073  \n",
       "\n",
       "[8 rows x 37 columns]"
      ]
     },
     "execution_count": 32,
     "metadata": {},
     "output_type": "execute_result"
    }
   ],
   "source": [
    "X_train.describe()"
   ]
  },
  {
   "cell_type": "markdown",
   "id": "2d1436bd",
   "metadata": {
    "papermill": {
     "duration": 0.013757,
     "end_time": "2025-06-20T13:05:29.698281",
     "exception": false,
     "start_time": "2025-06-20T13:05:29.684524",
     "status": "completed"
    },
    "tags": []
   },
   "source": [
    "# model LGBMRegressor"
   ]
  },
  {
   "cell_type": "code",
   "execution_count": 33,
   "id": "6d034b3d",
   "metadata": {
    "execution": {
     "iopub.execute_input": "2025-06-20T13:05:29.727908Z",
     "iopub.status.busy": "2025-06-20T13:05:29.727274Z",
     "iopub.status.idle": "2025-06-20T13:05:31.470393Z",
     "shell.execute_reply": "2025-06-20T13:05:31.469191Z"
    },
    "papermill": {
     "duration": 1.759933,
     "end_time": "2025-06-20T13:05:31.472066",
     "exception": false,
     "start_time": "2025-06-20T13:05:29.712133",
     "status": "completed"
    },
    "tags": []
   },
   "outputs": [
    {
     "name": "stdout",
     "output_type": "stream",
     "text": [
      "[LightGBM] [Info] Auto-choosing row-wise multi-threading, the overhead of testing was 0.003985 seconds.\n",
      "You can set `force_row_wise=true` to remove the overhead.\n",
      "And if memory is not enough, you can set `force_col_wise=true`.\n",
      "[LightGBM] [Info] Total Bins 3146\n",
      "[LightGBM] [Info] Number of data points in the train set: 1168, number of used features: 71\n",
      "[LightGBM] [Info] Start training from score 12.030658\n",
      "Validation RMSE: 0.1331\n"
     ]
    }
   ],
   "source": [
    " # Розділення на train / validation\n",
    "X, X_val, y, y_val = train_test_split(X_train, y_train, test_size=0.2, random_state=42)\n",
    "model, score = train_lgb_model (X, y, X_val, y_val, test_ids=df_test['Id'],  log_target=True)"
   ]
  },
  {
   "cell_type": "code",
   "execution_count": 34,
   "id": "9694ef71",
   "metadata": {
    "execution": {
     "iopub.execute_input": "2025-06-20T13:05:31.501775Z",
     "iopub.status.busy": "2025-06-20T13:05:31.501386Z",
     "iopub.status.idle": "2025-06-20T13:05:33.733559Z",
     "shell.execute_reply": "2025-06-20T13:05:33.732663Z"
    },
    "papermill": {
     "duration": 2.248796,
     "end_time": "2025-06-20T13:05:33.735100",
     "exception": false,
     "start_time": "2025-06-20T13:05:31.486304",
     "status": "completed"
    },
    "tags": []
   },
   "outputs": [
    {
     "name": "stdout",
     "output_type": "stream",
     "text": [
      "[LightGBM] [Info] Auto-choosing row-wise multi-threading, the overhead of testing was 0.000481 seconds.\n",
      "You can set `force_row_wise=true` to remove the overhead.\n",
      "And if memory is not enough, you can set `force_col_wise=true`.\n",
      "[LightGBM] [Info] Total Bins 3401\n",
      "[LightGBM] [Info] Number of data points in the train set: 1460, number of used features: 71\n",
      "[LightGBM] [Info] Start training from score 12.024057\n",
      "Validation RMSE: 0.3908\n",
      "isnan 0\n",
      "isinf 0\n"
     ]
    }
   ],
   "source": [
    "model, score, submission = train_lgb_model (X_train, y_train, X_test, y_test, test_ids=df_test['Id'],  log_target=True, return_submission=True)"
   ]
  },
  {
   "cell_type": "markdown",
   "id": "bab4a5c2",
   "metadata": {
    "papermill": {
     "duration": 0.013844,
     "end_time": "2025-06-20T13:05:33.763957",
     "exception": false,
     "start_time": "2025-06-20T13:05:33.750113",
     "status": "completed"
    },
    "tags": []
   },
   "source": [
    "# feature importance check"
   ]
  },
  {
   "cell_type": "code",
   "execution_count": 35,
   "id": "b3771ae2",
   "metadata": {
    "execution": {
     "iopub.execute_input": "2025-06-20T13:05:33.793837Z",
     "iopub.status.busy": "2025-06-20T13:05:33.793265Z",
     "iopub.status.idle": "2025-06-20T13:05:33.799780Z",
     "shell.execute_reply": "2025-06-20T13:05:33.798880Z"
    },
    "papermill": {
     "duration": 0.023183,
     "end_time": "2025-06-20T13:05:33.801311",
     "exception": false,
     "start_time": "2025-06-20T13:05:33.778128",
     "status": "completed"
    },
    "tags": []
   },
   "outputs": [],
   "source": [
    "def plot_feature_importance(model, X, top_n=30):\n",
    "    \"\"\"\n",
    "    Побудова графіку важливості ознак\n",
    "    \n",
    "    Parameters:\n",
    "    - model: натренована модель LightGBM\n",
    "    - X: датафрейм із ознаками\n",
    "    - top_n: скільки найважливіших показати\n",
    "    \"\"\"\n",
    "    importance = model.feature_importances_\n",
    "    feature_names = X.columns\n",
    "\n",
    "    fi_df = pd.DataFrame({'Feature': feature_names, 'Importance': importance})\n",
    "    fi_df = fi_df.sort_values(by='Importance', ascending=False).head(top_n)\n",
    "\n",
    "    plt.figure(figsize=(10, 8))\n",
    "    sns.barplot(data=fi_df, x='Importance', y='Feature', palette='viridis')\n",
    "    plt.title('Топ важливих ознак (LightGBM)')\n",
    "    plt.tight_layout()\n",
    "    plt.show()\n",
    "\n"
   ]
  },
  {
   "cell_type": "code",
   "execution_count": 36,
   "id": "1a23f007",
   "metadata": {
    "execution": {
     "iopub.execute_input": "2025-06-20T13:05:33.832124Z",
     "iopub.status.busy": "2025-06-20T13:05:33.831410Z",
     "iopub.status.idle": "2025-06-20T13:05:34.254135Z",
     "shell.execute_reply": "2025-06-20T13:05:34.253173Z"
    },
    "papermill": {
     "duration": 0.440085,
     "end_time": "2025-06-20T13:05:34.255643",
     "exception": false,
     "start_time": "2025-06-20T13:05:33.815558",
     "status": "completed"
    },
    "tags": []
   },
   "outputs": [
    {
     "data": {
      "image/png": "[encoded data removed]",
      "text/plain": [
       "<Figure size 1000x800 with 1 Axes>"
      ]
     },
     "metadata": {},
     "output_type": "display_data"
    }
   ],
   "source": [
    "plot_feature_importance(model, X_train)"
   ]
  },
  {
   "cell_type": "markdown",
   "id": "d02bfd5d",
   "metadata": {
    "papermill": {
     "duration": 0.015387,
     "end_time": "2025-06-20T13:05:34.287276",
     "exception": false,
     "start_time": "2025-06-20T13:05:34.271889",
     "status": "completed"
    },
    "tags": []
   },
   "source": [
    "# price distribution"
   ]
  },
  {
   "cell_type": "code",
   "execution_count": 37,
   "id": "6a31591d",
   "metadata": {
    "execution": {
     "iopub.execute_input": "2025-06-20T13:05:34.319742Z",
     "iopub.status.busy": "2025-06-20T13:05:34.319414Z",
     "iopub.status.idle": "2025-06-20T13:05:34.329599Z",
     "shell.execute_reply": "2025-06-20T13:05:34.328562Z"
    },
    "papermill": {
     "duration": 0.028266,
     "end_time": "2025-06-20T13:05:34.331143",
     "exception": false,
     "start_time": "2025-06-20T13:05:34.302877",
     "status": "completed"
    },
    "tags": []
   },
   "outputs": [
    {
     "data": {
      "text/plain": [
       "count      1460.000000\n",
       "mean     180921.195890\n",
       "std       79442.502883\n",
       "min       34900.000000\n",
       "25%      129975.000000\n",
       "50%      163000.000000\n",
       "75%      214000.000000\n",
       "max      755000.000000\n",
       "Name: SalePrice, dtype: float64"
      ]
     },
     "execution_count": 37,
     "metadata": {},
     "output_type": "execute_result"
    }
   ],
   "source": [
    "#let's look at the price distribution\n",
    "df_train['SalePrice'].describe()"
   ]
  },
  {
   "cell_type": "code",
   "execution_count": 38,
   "id": "7df26b64",
   "metadata": {
    "execution": {
     "iopub.execute_input": "2025-06-20T13:05:34.364862Z",
     "iopub.status.busy": "2025-06-20T13:05:34.364404Z",
     "iopub.status.idle": "2025-06-20T13:05:34.686001Z",
     "shell.execute_reply": "2025-06-20T13:05:34.685003Z"
    },
    "papermill": {
     "duration": 0.340433,
     "end_time": "2025-06-20T13:05:34.687585",
     "exception": false,
     "start_time": "2025-06-20T13:05:34.347152",
     "status": "completed"
    },
    "tags": []
   },
   "outputs": [
    {
     "name": "stderr",
     "output_type": "stream",
     "text": [
      "/usr/local/lib/python3.11/dist-packages/seaborn/_oldcore.py:1119: FutureWarning: use_inf_as_na option is deprecated and will be removed in a future version. Convert inf values to NaN before operating instead.\n",
      "  with pd.option_context('mode.use_inf_as_na', True):\n"
     ]
    },
    {
     "data": {
      "image/png": "[encoded data removed]",
      "text/plain": [
       "<Figure size 640x480 with 1 Axes>"
      ]
     },
     "metadata": {},
     "output_type": "display_data"
    }
   ],
   "source": [
    "sns.histplot(df_train['SalePrice'], kde=True, color='skyblue');"
   ]
  },
  {
   "cell_type": "markdown",
   "id": "ac3fc1db",
   "metadata": {
    "papermill": {
     "duration": 0.019682,
     "end_time": "2025-06-20T13:05:34.724862",
     "exception": false,
     "start_time": "2025-06-20T13:05:34.705180",
     "status": "completed"
    },
    "tags": []
   },
   "source": [
    "# Correlation matrix\n",
    "works with numerical data only"
   ]
  },
  {
   "cell_type": "code",
   "execution_count": 39,
   "id": "7d6d7c88",
   "metadata": {
    "execution": {
     "iopub.execute_input": "2025-06-20T13:05:34.758028Z",
     "iopub.status.busy": "2025-06-20T13:05:34.757627Z",
     "iopub.status.idle": "2025-06-20T13:05:34.769901Z",
     "shell.execute_reply": "2025-06-20T13:05:34.768913Z"
    },
    "papermill": {
     "duration": 0.030794,
     "end_time": "2025-06-20T13:05:34.771593",
     "exception": false,
     "start_time": "2025-06-20T13:05:34.740799",
     "status": "completed"
    },
    "tags": []
   },
   "outputs": [],
   "source": [
    "df_numeric = df_train.select_dtypes(include='number')\n",
    "\n",
    "corr_matrix = df_numeric.corr()  # Correlation matrix"
   ]
  },
  {
   "cell_type": "code",
   "execution_count": 40,
   "id": "2f70baae",
   "metadata": {
    "execution": {
     "iopub.execute_input": "2025-06-20T13:05:34.804822Z",
     "iopub.status.busy": "2025-06-20T13:05:34.804428Z",
     "iopub.status.idle": "2025-06-20T13:05:34.813633Z",
     "shell.execute_reply": "2025-06-20T13:05:34.812558Z"
    },
    "papermill": {
     "duration": 0.027617,
     "end_time": "2025-06-20T13:05:34.815363",
     "exception": false,
     "start_time": "2025-06-20T13:05:34.787746",
     "status": "completed"
    },
    "tags": []
   },
   "outputs": [
    {
     "data": {
      "text/plain": [
       "Index(['SalePrice', 'OverallQual', 'GrLivArea', 'GarageCars', 'GarageArea',\n",
       "       'TotalBsmtSF', '1stFlrSF', 'FullBath', 'TotRmsAbvGrd', 'YearBuilt',\n",
       "       'YearRemodAdd', 'GarageYrBlt'],\n",
       "      dtype='object')"
      ]
     },
     "execution_count": 40,
     "metadata": {},
     "output_type": "execute_result"
    }
   ],
   "source": [
    "#saleprice correlation matrix\n",
    "k = 12 #number of variables for heatmap\n",
    "cols = corr_matrix.abs().nlargest(k, 'SalePrice')['SalePrice'].index\n",
    "cols"
   ]
  },
  {
   "cell_type": "code",
   "execution_count": 41,
   "id": "8c5968d3",
   "metadata": {
    "execution": {
     "iopub.execute_input": "2025-06-20T13:05:34.849613Z",
     "iopub.status.busy": "2025-06-20T13:05:34.849247Z",
     "iopub.status.idle": "2025-06-20T13:05:35.448668Z",
     "shell.execute_reply": "2025-06-20T13:05:35.447698Z"
    },
    "papermill": {
     "duration": 0.619443,
     "end_time": "2025-06-20T13:05:35.451310",
     "exception": false,
     "start_time": "2025-06-20T13:05:34.831867",
     "status": "completed"
    },
    "tags": []
   },
   "outputs": [
    {
     "data": {
      "text/plain": [
       "<Axes: >"
      ]
     },
     "execution_count": 41,
     "metadata": {},
     "output_type": "execute_result"
    },
    {
     "data": {
      "image/png": "[encoded data removed]",
      "text/plain": [
       "<Figure size 640x480 with 2 Axes>"
      ]
     },
     "metadata": {},
     "output_type": "display_data"
    }
   ],
   "source": [
    "df_train[cols].corr()\n",
    "sns.heatmap(df_train[cols].corr(), cbar=True, annot=True, square=True, fmt='.2f', annot_kws={'size': 10}, yticklabels=cols.values, xticklabels=cols.values)"
   ]
  },
  {
   "cell_type": "code",
   "execution_count": 42,
   "id": "d600b95c",
   "metadata": {
    "execution": {
     "iopub.execute_input": "2025-06-20T13:05:35.491872Z",
     "iopub.status.busy": "2025-06-20T13:05:35.491434Z",
     "iopub.status.idle": "2025-06-20T13:05:35.511676Z",
     "shell.execute_reply": "2025-06-20T13:05:35.510573Z"
    },
    "papermill": {
     "duration": 0.042212,
     "end_time": "2025-06-20T13:05:35.513333",
     "exception": false,
     "start_time": "2025-06-20T13:05:35.471121",
     "status": "completed"
    },
    "tags": []
   },
   "outputs": [
    {
     "name": "stderr",
     "output_type": "stream",
     "text": [
      "/usr/local/lib/python3.11/dist-packages/pandas/io/formats/format.py:1458: RuntimeWarning: invalid value encountered in greater\n",
      "  has_large_values = (abs_vals > 1e6).any()\n",
      "/usr/local/lib/python3.11/dist-packages/pandas/io/formats/format.py:1459: RuntimeWarning: invalid value encountered in less\n",
      "  has_small_values = ((abs_vals < 10 ** (-self.digits)) & (abs_vals > 0)).any()\n",
      "/usr/local/lib/python3.11/dist-packages/pandas/io/formats/format.py:1459: RuntimeWarning: invalid value encountered in greater\n",
      "  has_small_values = ((abs_vals < 10 ** (-self.digits)) & (abs_vals > 0)).any()\n"
     ]
    },
    {
     "data": {
      "text/html": [
       "<div>\n",
       "<style scoped>\n",
       "    .dataframe tbody tr th:only-of-type {\n",
       "        vertical-align: middle;\n",
       "    }\n",
       "\n",
       "    .dataframe tbody tr th {\n",
       "        vertical-align: top;\n",
       "    }\n",
       "\n",
       "    .dataframe thead th {\n",
       "        text-align: right;\n",
       "    }\n",
       "</style>\n",
       "<table border=\"1\" class=\"dataframe\">\n",
       "  <thead>\n",
       "    <tr style=\"text-align: right;\">\n",
       "      <th></th>\n",
       "      <th>YearBuilt</th>\n",
       "      <th>TotalBsmtSF</th>\n",
       "      <th>1stFlrSF</th>\n",
       "      <th>GrLivArea</th>\n",
       "      <th>TotRmsAbvGrd</th>\n",
       "      <th>GarageYrBlt</th>\n",
       "      <th>GarageCars</th>\n",
       "      <th>GarageArea</th>\n",
       "    </tr>\n",
       "  </thead>\n",
       "  <tbody>\n",
       "    <tr>\n",
       "      <th>YearBuilt</th>\n",
       "      <td>NaN</td>\n",
       "      <td>NaN</td>\n",
       "      <td>NaN</td>\n",
       "      <td>NaN</td>\n",
       "      <td>NaN</td>\n",
       "      <td>0.825667</td>\n",
       "      <td>NaN</td>\n",
       "      <td>NaN</td>\n",
       "    </tr>\n",
       "    <tr>\n",
       "      <th>TotalBsmtSF</th>\n",
       "      <td>NaN</td>\n",
       "      <td>NaN</td>\n",
       "      <td>0.81953</td>\n",
       "      <td>NaN</td>\n",
       "      <td>NaN</td>\n",
       "      <td>NaN</td>\n",
       "      <td>NaN</td>\n",
       "      <td>NaN</td>\n",
       "    </tr>\n",
       "    <tr>\n",
       "      <th>1stFlrSF</th>\n",
       "      <td>NaN</td>\n",
       "      <td>0.81953</td>\n",
       "      <td>NaN</td>\n",
       "      <td>NaN</td>\n",
       "      <td>NaN</td>\n",
       "      <td>NaN</td>\n",
       "      <td>NaN</td>\n",
       "      <td>NaN</td>\n",
       "    </tr>\n",
       "    <tr>\n",
       "      <th>GrLivArea</th>\n",
       "      <td>NaN</td>\n",
       "      <td>NaN</td>\n",
       "      <td>NaN</td>\n",
       "      <td>NaN</td>\n",
       "      <td>0.825489</td>\n",
       "      <td>NaN</td>\n",
       "      <td>NaN</td>\n",
       "      <td>NaN</td>\n",
       "    </tr>\n",
       "    <tr>\n",
       "      <th>TotRmsAbvGrd</th>\n",
       "      <td>NaN</td>\n",
       "      <td>NaN</td>\n",
       "      <td>NaN</td>\n",
       "      <td>0.825489</td>\n",
       "      <td>NaN</td>\n",
       "      <td>NaN</td>\n",
       "      <td>NaN</td>\n",
       "      <td>NaN</td>\n",
       "    </tr>\n",
       "    <tr>\n",
       "      <th>GarageYrBlt</th>\n",
       "      <td>0.825667</td>\n",
       "      <td>NaN</td>\n",
       "      <td>NaN</td>\n",
       "      <td>NaN</td>\n",
       "      <td>NaN</td>\n",
       "      <td>NaN</td>\n",
       "      <td>NaN</td>\n",
       "      <td>NaN</td>\n",
       "    </tr>\n",
       "    <tr>\n",
       "      <th>GarageCars</th>\n",
       "      <td>NaN</td>\n",
       "      <td>NaN</td>\n",
       "      <td>NaN</td>\n",
       "      <td>NaN</td>\n",
       "      <td>NaN</td>\n",
       "      <td>NaN</td>\n",
       "      <td>NaN</td>\n",
       "      <td>0.882475</td>\n",
       "    </tr>\n",
       "    <tr>\n",
       "      <th>GarageArea</th>\n",
       "      <td>NaN</td>\n",
       "      <td>NaN</td>\n",
       "      <td>NaN</td>\n",
       "      <td>NaN</td>\n",
       "      <td>NaN</td>\n",
       "      <td>NaN</td>\n",
       "      <td>0.882475</td>\n",
       "      <td>NaN</td>\n",
       "    </tr>\n",
       "  </tbody>\n",
       "</table>\n",
       "</div>"
      ],
      "text/plain": [
       "              YearBuilt  TotalBsmtSF  1stFlrSF  GrLivArea  TotRmsAbvGrd  \\\n",
       "YearBuilt           NaN          NaN       NaN        NaN           NaN   \n",
       "TotalBsmtSF         NaN          NaN   0.81953        NaN           NaN   \n",
       "1stFlrSF            NaN      0.81953       NaN        NaN           NaN   \n",
       "GrLivArea           NaN          NaN       NaN        NaN      0.825489   \n",
       "TotRmsAbvGrd        NaN          NaN       NaN   0.825489           NaN   \n",
       "GarageYrBlt    0.825667          NaN       NaN        NaN           NaN   \n",
       "GarageCars          NaN          NaN       NaN        NaN           NaN   \n",
       "GarageArea          NaN          NaN       NaN        NaN           NaN   \n",
       "\n",
       "              GarageYrBlt  GarageCars  GarageArea  \n",
       "YearBuilt        0.825667         NaN         NaN  \n",
       "TotalBsmtSF           NaN         NaN         NaN  \n",
       "1stFlrSF              NaN         NaN         NaN  \n",
       "GrLivArea             NaN         NaN         NaN  \n",
       "TotRmsAbvGrd          NaN         NaN         NaN  \n",
       "GarageYrBlt           NaN         NaN         NaN  \n",
       "GarageCars            NaN         NaN    0.882475  \n",
       "GarageArea            NaN    0.882475         NaN  "
      ]
     },
     "metadata": {},
     "output_type": "display_data"
    }
   ],
   "source": [
    "high_corr = corr_matrix[(corr_matrix.abs() > 0.8) & (corr_matrix.abs() < 1.0)]  # Filtering correlations > 0.9\n",
    "display(high_corr.dropna(how='all').dropna(axis=1, how='all')) #To reduce the size, we need to remove rows and columns containing only NaN"
   ]
  },
  {
   "cell_type": "code",
   "execution_count": 43,
   "id": "403e4494",
   "metadata": {
    "execution": {
     "iopub.execute_input": "2025-06-20T13:05:35.553142Z",
     "iopub.status.busy": "2025-06-20T13:05:35.552764Z",
     "iopub.status.idle": "2025-06-20T13:05:35.822830Z",
     "shell.execute_reply": "2025-06-20T13:05:35.821860Z"
    },
    "papermill": {
     "duration": 0.291914,
     "end_time": "2025-06-20T13:05:35.824483",
     "exception": false,
     "start_time": "2025-06-20T13:05:35.532569",
     "status": "completed"
    },
    "tags": []
   },
   "outputs": [
    {
     "data": {
      "text/plain": [
       "<Axes: title={'center': 'GarageCars and GarageArea dependencya'}, xlabel='GarageCars', ylabel='GarageArea'>"
      ]
     },
     "execution_count": 43,
     "metadata": {},
     "output_type": "execute_result"
    },
    {
     "data": {
      "image/png": "[encoded data removed]",
      "text/plain": [
       "<Figure size 640x480 with 1 Axes>"
      ]
     },
     "metadata": {},
     "output_type": "display_data"
    }
   ],
   "source": [
    "sns.scatterplot(x=df_train[\"GarageCars\"], y=df_train[\"GarageArea\"])\n",
    "plt.xlabel(\"number of cars in the garage\")\n",
    "plt.ylabel(\"Garage Area\")\n",
    "plt.title(\"GarageCars and GarageArea dependencya\")\n",
    "sns.boxplot(x=df_train[\"GarageCars\"], y=df_train[\"GarageArea\"])"
   ]
  },
  {
   "cell_type": "markdown",
   "id": "724b8c82",
   "metadata": {
    "papermill": {
     "duration": 0.01953,
     "end_time": "2025-06-20T13:05:35.864115",
     "exception": false,
     "start_time": "2025-06-20T13:05:35.844585",
     "status": "completed"
    },
    "tags": []
   },
   "source": []
  }
 ],
 "metadata": {
  "kaggle": {
   "accelerator": "none",
   "dataSources": [
    {
     "datasetId": 8643,
     "sourceId": 12099,
     "sourceType": "datasetVersion"
    },
    {
     "datasetId": 1859421,
     "sourceId": 3036086,
     "sourceType": "datasetVersion"
    },
    {
     "datasetId": 4447467,
     "sourceId": 7632517,
     "sourceType": "datasetVersion"
    }
   ],
   "dockerImageVersionId": 31040,
   "isGpuEnabled": false,
   "isInternetEnabled": false,
   "language": "python",
   "sourceType": "notebook"
  },
  "kernelspec": {
   "display_name": "Python 3",
   "language": "python",
   "name": "python3"
  },
  "language_info": {
   "codemirror_mode": {
    "name": "ipython",
    "version": 3
   },
   "file_extension": ".py",
   "mimetype": "text/x-python",
   "name": "python",
   "nbconvert_exporter": "python",
   "pygments_lexer": "ipython3",
   "version": "3.11.11"
  },
  "papermill": {
   "default_parameters": {},
   "duration": 28.388555,
   "end_time": "2025-06-20T13:05:36.905266",
   "environment_variables": {},
   "exception": null,
   "input_path": "__notebook__.ipynb",
   "output_path": "__notebook__.ipynb",
   "parameters": {},
   "start_time": "2025-06-20T13:05:08.516711",
   "version": "2.6.0"
  }
 },
 "nbformat": 4,
 "nbformat_minor": 5
}
